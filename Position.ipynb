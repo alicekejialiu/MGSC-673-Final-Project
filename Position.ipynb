{
  "nbformat": 4,
  "nbformat_minor": 0,
  "metadata": {
    "colab": {
      "name": "Position",
      "provenance": [],
      "collapsed_sections": [
        "8FxpJAeBZvr2"
      ]
    },
    "kernelspec": {
      "name": "python3",
      "display_name": "Python 3"
    },
    "language_info": {
      "name": "python"
    }
  },
  "cells": [
    {
      "cell_type": "markdown",
      "source": [
        "#Facial Position Detection Application (1/3)\n",
        "For this application of detecting facial position, the target variable is the head position, where 1,2,3,4 represents left, right, straight, and up respectively."
      ],
      "metadata": {
        "id": "seO-MHcAYBqA"
      }
    },
    {
      "cell_type": "markdown",
      "source": [
        "## 1. Environment Setup"
      ],
      "metadata": {
        "id": "kQquV2JfYjdT"
      }
    },
    {
      "cell_type": "code",
      "source": [
        "import re   \n",
        "import numpy as np \n",
        "import os\n",
        "import tarfile\n",
        "import tensorflow as tf\n",
        "from random import randint\n",
        "from glob import glob\n",
        "import pandas as pd\n",
        "from __future__ import print_function\n",
        "from tensorflow import keras\n",
        "from tensorflow.keras.layers import Dense, Dropout, Input\n",
        "from tensorflow.keras.layers import Conv2D, MaxPooling2D, Flatten, BatchNormalization\n",
        "from tensorflow.keras.models import Model"
      ],
      "metadata": {
        "id": "dLfgW4TuEwmg"
      },
      "execution_count": 1,
      "outputs": []
    },
    {
      "cell_type": "markdown",
      "source": [
        "## 2. Loading Dataset"
      ],
      "metadata": {
        "id": "K5bbrosfYfWe"
      }
    },
    {
      "cell_type": "code",
      "source": [
        "!wget https://github.com/alicekejialiu/datasets/raw/main/faces_4.tar.gz"
      ],
      "metadata": {
        "colab": {
          "base_uri": "https://localhost:8080/"
        },
        "id": "MKfBgBmcVblw",
        "outputId": "1ea14709-35ad-475c-88fe-0c116b990875"
      },
      "execution_count": 2,
      "outputs": [
        {
          "output_type": "stream",
          "name": "stdout",
          "text": [
            "--2022-04-29 01:19:00--  https://github.com/alicekejialiu/datasets/raw/main/faces_4.tar.gz\n",
            "Resolving github.com (github.com)... 140.82.112.3\n",
            "Connecting to github.com (github.com)|140.82.112.3|:443... connected.\n",
            "HTTP request sent, awaiting response... 302 Found\n",
            "Location: https://raw.githubusercontent.com/alicekejialiu/datasets/main/faces_4.tar.gz [following]\n",
            "--2022-04-29 01:19:00--  https://raw.githubusercontent.com/alicekejialiu/datasets/main/faces_4.tar.gz\n",
            "Resolving raw.githubusercontent.com (raw.githubusercontent.com)... 185.199.108.133, 185.199.109.133, 185.199.110.133, ...\n",
            "Connecting to raw.githubusercontent.com (raw.githubusercontent.com)|185.199.108.133|:443... connected.\n",
            "HTTP request sent, awaiting response... 200 OK\n",
            "Length: 414060 (404K) [application/octet-stream]\n",
            "Saving to: ‘faces_4.tar.gz.4’\n",
            "\n",
            "faces_4.tar.gz.4    100%[===================>] 404.36K  --.-KB/s    in 0.04s   \n",
            "\n",
            "2022-04-29 01:19:00 (11.0 MB/s) - ‘faces_4.tar.gz.4’ saved [414060/414060]\n",
            "\n"
          ]
        }
      ]
    },
    {
      "cell_type": "code",
      "execution_count": 3,
      "metadata": {
        "id": "PjXjyr6ID45n"
      },
      "outputs": [],
      "source": [
        "tar = tarfile.open('/content/faces_4.tar.gz', \"r:gz\")\n",
        "tar.extractall()\n",
        "tar.close()"
      ]
    },
    {
      "cell_type": "markdown",
      "source": [
        "## 3. Set Paths for Images"
      ],
      "metadata": {
        "id": "sNDICiyUYwM1"
      }
    },
    {
      "cell_type": "markdown",
      "source": [
        "### 3.1 Create two lists to contain imagepaths and face position"
      ],
      "metadata": {
        "id": "jhZGh1YAZBi4"
      }
    },
    {
      "cell_type": "code",
      "source": [
        "dataset_path = '/content/faces_4'\n",
        "imagepaths, positions = list(), list()\n",
        "test = []\n",
        "# List the directory\n",
        "try:\n",
        "  classes = sorted(os.walk(dataset_path).next()[1])\n",
        "except Exception:  \n",
        "  classes = sorted(os.walk(dataset_path).__next__()[1])\n",
        "        # List each sub-directory (the classes)\n",
        "\n",
        "for c in classes:\n",
        "  c_dir = os.path.join(dataset_path, c)\n",
        "  try:\n",
        "    walk = os.walk(c_dir).next()\n",
        "  except Exception: \n",
        "    walk = os.walk(c_dir).__next__()\n",
        "    # Add each image to the training set\n",
        "\n",
        "  for sample in walk[2]:\n",
        "    if sample.endswith('.pgm'):\n",
        "      imagepaths.append(os.path.join(c_dir, sample))\n",
        "\n",
        "      position = sample.split('_')[1]\n",
        "\n",
        "      if position=='left':\n",
        "        positions.append(np.array([(1)]))\n",
        "      elif position=='right':\n",
        "        positions.append(np.array([(2)]))\n",
        "      elif position=='straight':\n",
        "        positions.append(np.array([(3)]))\n",
        "      elif position=='up':\n",
        "        positions.append(np.array([(4)]))"
      ],
      "metadata": {
        "id": "wgTJumctTwvD"
      },
      "execution_count": 4,
      "outputs": []
    },
    {
      "cell_type": "markdown",
      "source": [
        "### 3.2 Imagepaths and emotions in DataFrame format"
      ],
      "metadata": {
        "id": "T_KoIiuRZI_G"
      }
    },
    {
      "cell_type": "code",
      "source": [
        "haha = pd.DataFrame([imagepaths,positions]).transpose()\n",
        "haha=haha.rename(columns={0:'imagepaths',1:'positions'})\n",
        "haha"
      ],
      "metadata": {
        "colab": {
          "base_uri": "https://localhost:8080/",
          "height": 0
        },
        "id": "ZV5lXotLUgor",
        "outputId": "315ecd6d-36bd-4979-e089-7c3090646930"
      },
      "execution_count": 5,
      "outputs": [
        {
          "output_type": "execute_result",
          "data": {
            "text/plain": [
              "                                            imagepaths positions\n",
              "0    /content/faces_4/an2i/an2i_straight_sad_sungla...       [3]\n",
              "1    /content/faces_4/an2i/an2i_straight_happy_sung...       [3]\n",
              "2    /content/faces_4/an2i/an2i_up_angry_sunglasses...       [4]\n",
              "3     /content/faces_4/an2i/an2i_up_neutral_open_4.pgm       [4]\n",
              "4    /content/faces_4/an2i/an2i_right_neutral_open_...       [2]\n",
              "..                                                 ...       ...\n",
              "619  /content/faces_4/tammo/tammo_left_neutral_sung...       [1]\n",
              "620  /content/faces_4/tammo/tammo_straight_neutral_...       [3]\n",
              "621  /content/faces_4/tammo/tammo_right_angry_open_...       [2]\n",
              "622   /content/faces_4/tammo/tammo_left_sad_open_4.pgm       [1]\n",
              "623  /content/faces_4/tammo/tammo_straight_happy_op...       [3]\n",
              "\n",
              "[624 rows x 2 columns]"
            ],
            "text/html": [
              "\n",
              "  <div id=\"df-ca2f1a38-336a-409a-8ee3-3e2d4549aad0\">\n",
              "    <div class=\"colab-df-container\">\n",
              "      <div>\n",
              "<style scoped>\n",
              "    .dataframe tbody tr th:only-of-type {\n",
              "        vertical-align: middle;\n",
              "    }\n",
              "\n",
              "    .dataframe tbody tr th {\n",
              "        vertical-align: top;\n",
              "    }\n",
              "\n",
              "    .dataframe thead th {\n",
              "        text-align: right;\n",
              "    }\n",
              "</style>\n",
              "<table border=\"1\" class=\"dataframe\">\n",
              "  <thead>\n",
              "    <tr style=\"text-align: right;\">\n",
              "      <th></th>\n",
              "      <th>imagepaths</th>\n",
              "      <th>positions</th>\n",
              "    </tr>\n",
              "  </thead>\n",
              "  <tbody>\n",
              "    <tr>\n",
              "      <th>0</th>\n",
              "      <td>/content/faces_4/an2i/an2i_straight_sad_sungla...</td>\n",
              "      <td>[3]</td>\n",
              "    </tr>\n",
              "    <tr>\n",
              "      <th>1</th>\n",
              "      <td>/content/faces_4/an2i/an2i_straight_happy_sung...</td>\n",
              "      <td>[3]</td>\n",
              "    </tr>\n",
              "    <tr>\n",
              "      <th>2</th>\n",
              "      <td>/content/faces_4/an2i/an2i_up_angry_sunglasses...</td>\n",
              "      <td>[4]</td>\n",
              "    </tr>\n",
              "    <tr>\n",
              "      <th>3</th>\n",
              "      <td>/content/faces_4/an2i/an2i_up_neutral_open_4.pgm</td>\n",
              "      <td>[4]</td>\n",
              "    </tr>\n",
              "    <tr>\n",
              "      <th>4</th>\n",
              "      <td>/content/faces_4/an2i/an2i_right_neutral_open_...</td>\n",
              "      <td>[2]</td>\n",
              "    </tr>\n",
              "    <tr>\n",
              "      <th>...</th>\n",
              "      <td>...</td>\n",
              "      <td>...</td>\n",
              "    </tr>\n",
              "    <tr>\n",
              "      <th>619</th>\n",
              "      <td>/content/faces_4/tammo/tammo_left_neutral_sung...</td>\n",
              "      <td>[1]</td>\n",
              "    </tr>\n",
              "    <tr>\n",
              "      <th>620</th>\n",
              "      <td>/content/faces_4/tammo/tammo_straight_neutral_...</td>\n",
              "      <td>[3]</td>\n",
              "    </tr>\n",
              "    <tr>\n",
              "      <th>621</th>\n",
              "      <td>/content/faces_4/tammo/tammo_right_angry_open_...</td>\n",
              "      <td>[2]</td>\n",
              "    </tr>\n",
              "    <tr>\n",
              "      <th>622</th>\n",
              "      <td>/content/faces_4/tammo/tammo_left_sad_open_4.pgm</td>\n",
              "      <td>[1]</td>\n",
              "    </tr>\n",
              "    <tr>\n",
              "      <th>623</th>\n",
              "      <td>/content/faces_4/tammo/tammo_straight_happy_op...</td>\n",
              "      <td>[3]</td>\n",
              "    </tr>\n",
              "  </tbody>\n",
              "</table>\n",
              "<p>624 rows × 2 columns</p>\n",
              "</div>\n",
              "      <button class=\"colab-df-convert\" onclick=\"convertToInteractive('df-ca2f1a38-336a-409a-8ee3-3e2d4549aad0')\"\n",
              "              title=\"Convert this dataframe to an interactive table.\"\n",
              "              style=\"display:none;\">\n",
              "        \n",
              "  <svg xmlns=\"http://www.w3.org/2000/svg\" height=\"24px\"viewBox=\"0 0 24 24\"\n",
              "       width=\"24px\">\n",
              "    <path d=\"M0 0h24v24H0V0z\" fill=\"none\"/>\n",
              "    <path d=\"M18.56 5.44l.94 2.06.94-2.06 2.06-.94-2.06-.94-.94-2.06-.94 2.06-2.06.94zm-11 1L8.5 8.5l.94-2.06 2.06-.94-2.06-.94L8.5 2.5l-.94 2.06-2.06.94zm10 10l.94 2.06.94-2.06 2.06-.94-2.06-.94-.94-2.06-.94 2.06-2.06.94z\"/><path d=\"M17.41 7.96l-1.37-1.37c-.4-.4-.92-.59-1.43-.59-.52 0-1.04.2-1.43.59L10.3 9.45l-7.72 7.72c-.78.78-.78 2.05 0 2.83L4 21.41c.39.39.9.59 1.41.59.51 0 1.02-.2 1.41-.59l7.78-7.78 2.81-2.81c.8-.78.8-2.07 0-2.86zM5.41 20L4 18.59l7.72-7.72 1.47 1.35L5.41 20z\"/>\n",
              "  </svg>\n",
              "      </button>\n",
              "      \n",
              "  <style>\n",
              "    .colab-df-container {\n",
              "      display:flex;\n",
              "      flex-wrap:wrap;\n",
              "      gap: 12px;\n",
              "    }\n",
              "\n",
              "    .colab-df-convert {\n",
              "      background-color: #E8F0FE;\n",
              "      border: none;\n",
              "      border-radius: 50%;\n",
              "      cursor: pointer;\n",
              "      display: none;\n",
              "      fill: #1967D2;\n",
              "      height: 32px;\n",
              "      padding: 0 0 0 0;\n",
              "      width: 32px;\n",
              "    }\n",
              "\n",
              "    .colab-df-convert:hover {\n",
              "      background-color: #E2EBFA;\n",
              "      box-shadow: 0px 1px 2px rgba(60, 64, 67, 0.3), 0px 1px 3px 1px rgba(60, 64, 67, 0.15);\n",
              "      fill: #174EA6;\n",
              "    }\n",
              "\n",
              "    [theme=dark] .colab-df-convert {\n",
              "      background-color: #3B4455;\n",
              "      fill: #D2E3FC;\n",
              "    }\n",
              "\n",
              "    [theme=dark] .colab-df-convert:hover {\n",
              "      background-color: #434B5C;\n",
              "      box-shadow: 0px 1px 3px 1px rgba(0, 0, 0, 0.15);\n",
              "      filter: drop-shadow(0px 1px 2px rgba(0, 0, 0, 0.3));\n",
              "      fill: #FFFFFF;\n",
              "    }\n",
              "  </style>\n",
              "\n",
              "      <script>\n",
              "        const buttonEl =\n",
              "          document.querySelector('#df-ca2f1a38-336a-409a-8ee3-3e2d4549aad0 button.colab-df-convert');\n",
              "        buttonEl.style.display =\n",
              "          google.colab.kernel.accessAllowed ? 'block' : 'none';\n",
              "\n",
              "        async function convertToInteractive(key) {\n",
              "          const element = document.querySelector('#df-ca2f1a38-336a-409a-8ee3-3e2d4549aad0');\n",
              "          const dataTable =\n",
              "            await google.colab.kernel.invokeFunction('convertToInteractive',\n",
              "                                                     [key], {});\n",
              "          if (!dataTable) return;\n",
              "\n",
              "          const docLinkHtml = 'Like what you see? Visit the ' +\n",
              "            '<a target=\"_blank\" href=https://colab.research.google.com/notebooks/data_table.ipynb>data table notebook</a>'\n",
              "            + ' to learn more about interactive tables.';\n",
              "          element.innerHTML = '';\n",
              "          dataTable['output_type'] = 'display_data';\n",
              "          await google.colab.output.renderOutput(dataTable, element);\n",
              "          const docLink = document.createElement('div');\n",
              "          docLink.innerHTML = docLinkHtml;\n",
              "          element.appendChild(docLink);\n",
              "        }\n",
              "      </script>\n",
              "    </div>\n",
              "  </div>\n",
              "  "
            ]
          },
          "metadata": {},
          "execution_count": 5
        }
      ]
    },
    {
      "cell_type": "markdown",
      "source": [
        "## 4. Create Dataset"
      ],
      "metadata": {
        "id": "89LqaaL4Y3KQ"
      }
    },
    {
      "cell_type": "markdown",
      "source": [
        "### 4.1 Define function for reading pgm files to numpy ndarrays."
      ],
      "metadata": {
        "id": "r3bF3P-YZQb2"
      }
    },
    {
      "cell_type": "code",
      "source": [
        "def read_pgm(filename, byteorder='>'):     # '>' indicates big-endian\n",
        " \n",
        "  \"\"\"Return image data from a raw PGM file as a numpy array.\n",
        "  Format specification: http://netpbm.sourceforge.net/doc/pgm.html\n",
        "  \"\"\"\n",
        "\n",
        "  with open(filename, 'rb') as f:\n",
        "    buffer = f.read()\n",
        "  try:\n",
        "    header, width, height, maxval = re.search(  \n",
        "    b\"(^P5\\s(?:\\s*#.*[\\r\\n])*\"             # A pgm image's magic number is the two characters \"P5\"\n",
        "    b\"(\\d+)\\s(?:\\s*#.*[\\r\\n])*\"             # A width, formatted as ASCII characters in decimal\n",
        "    b\"(\\d+)\\s(?:\\s*#.*[\\r\\n])*\"             # A height, again in ASCII decimal\n",
        "    b\"(\\d+)\\s(?:\\s*#.*[\\r\\n]\\s)*)\", buffer).groups()  # The maximum gray value (Maxval), again in ASCII decimal. \n",
        "                               # Must be less than 65536, and more than zero.\n",
        "  except AttributeError:\n",
        "    raise ValueError(\"Not a raw PGM file: '%s'\" % filename)\n",
        "    \n",
        "  return np.frombuffer(buffer,\n",
        "               dtype='u1' if int(maxval) < 256 else byteorder+'u2',\n",
        "               count=int(width)*int(height),\n",
        "               offset=len(header)\n",
        "              ).reshape((int(height)*int(width)))"
      ],
      "metadata": {
        "id": "ZwCNAjDhUgSz"
      },
      "execution_count": 6,
      "outputs": []
    },
    {
      "cell_type": "markdown",
      "source": [
        "### 4.2 Read pgm files with image paths"
      ],
      "metadata": {
        "id": "SaiZYBtKZW5p"
      }
    },
    {
      "cell_type": "code",
      "source": [
        "image = []\n",
        "for i in range(len(imagepaths)):\n",
        "  try:\n",
        "    val = read_pgm(imagepaths[i])\n",
        "    image.append(val)\n",
        "  except ValueError:\n",
        "    image.append(i)"
      ],
      "metadata": {
        "id": "aLWTzV9OlgoV"
      },
      "execution_count": 7,
      "outputs": []
    },
    {
      "cell_type": "markdown",
      "source": [
        "### 4.3 Drop images that cannot be fit into buffer size"
      ],
      "metadata": {
        "id": "1mM7uWozZZ6I"
      }
    },
    {
      "cell_type": "code",
      "source": [
        "count = 0\n",
        "fail = []\n",
        "for i in image:\n",
        "  if type(i) != np.ndarray:\n",
        "    fail.append(i)\n",
        "    count += 1\n",
        "fail"
      ],
      "metadata": {
        "colab": {
          "base_uri": "https://localhost:8080/"
        },
        "id": "t0ayLNU5QByR",
        "outputId": "60511b46-15ae-4a90-9e5e-a0325455879e"
      },
      "execution_count": 8,
      "outputs": [
        {
          "output_type": "execute_result",
          "data": {
            "text/plain": [
              "[11, 19, 88, 197, 269, 274, 380, 449, 480, 487, 489, 497]"
            ]
          },
          "metadata": {},
          "execution_count": 8
        }
      ]
    },
    {
      "cell_type": "markdown",
      "source": [
        "### 4.4 Convert data to float32 type"
      ],
      "metadata": {
        "id": "j4hqvTP_Zfj_"
      }
    },
    {
      "cell_type": "code",
      "source": [
        "for i in range(len(image)):\n",
        "  try:\n",
        "    val = image[i].reshape(32,30).astype(np.float32)\n",
        "    image[i] = val\n",
        "  except AttributeError:\n",
        "    continue"
      ],
      "metadata": {
        "id": "lq9nkp0_Uq4d"
      },
      "execution_count": 9,
      "outputs": []
    },
    {
      "cell_type": "markdown",
      "source": [
        "### 4.5 Create final DataFrame"
      ],
      "metadata": {
        "id": "QZWuDEMiZkEY"
      }
    },
    {
      "cell_type": "code",
      "source": [
        "wow = pd.DataFrame([image,positions]).transpose()\n",
        "wow = wow.rename(columns={0:'image',1:'positions'})\n",
        "wow = wow.drop(fail).reset_index().drop(columns='index')\n",
        "wow = wow.sample(n=wow.shape[0]).reset_index().drop(columns='index')\n",
        "wow"
      ],
      "metadata": {
        "colab": {
          "base_uri": "https://localhost:8080/",
          "height": 0
        },
        "id": "QTfhP8DYRHgA",
        "outputId": "bac032bf-c22f-42db-9545-36b934bb4ac2"
      },
      "execution_count": 10,
      "outputs": [
        {
          "output_type": "execute_result",
          "data": {
            "text/plain": [
              "                                                 image positions\n",
              "0    [[19.0, 27.0, 26.0, 26.0, 25.0, 24.0, 23.0, 22...       [2]\n",
              "1    [[34.0, 33.0, 32.0, 30.0, 29.0, 27.0, 25.0, 23...       [1]\n",
              "2    [[35.0, 37.0, 38.0, 40.0, 41.0, 42.0, 42.0, 43...       [4]\n",
              "3    [[3.0, 7.0, 40.0, 35.0, 34.0, 33.0, 32.0, 31.0...       [2]\n",
              "4    [[41.0, 39.0, 36.0, 35.0, 32.0, 31.0, 29.0, 27...       [1]\n",
              "..                                                 ...       ...\n",
              "607  [[52.0, 48.0, 45.0, 41.0, 38.0, 35.0, 32.0, 29...       [4]\n",
              "608  [[18.0, 26.0, 25.0, 25.0, 24.0, 23.0, 22.0, 21...       [1]\n",
              "609  [[3.0, 7.0, 38.0, 34.0, 33.0, 32.0, 31.0, 30.0...       [2]\n",
              "610  [[22.0, 31.0, 31.0, 30.0, 29.0, 28.0, 27.0, 26...       [3]\n",
              "611  [[48.0, 45.0, 41.0, 38.0, 35.0, 32.0, 30.0, 27...       [2]\n",
              "\n",
              "[612 rows x 2 columns]"
            ],
            "text/html": [
              "\n",
              "  <div id=\"df-69f30703-a4d3-421b-b75e-58099b086723\">\n",
              "    <div class=\"colab-df-container\">\n",
              "      <div>\n",
              "<style scoped>\n",
              "    .dataframe tbody tr th:only-of-type {\n",
              "        vertical-align: middle;\n",
              "    }\n",
              "\n",
              "    .dataframe tbody tr th {\n",
              "        vertical-align: top;\n",
              "    }\n",
              "\n",
              "    .dataframe thead th {\n",
              "        text-align: right;\n",
              "    }\n",
              "</style>\n",
              "<table border=\"1\" class=\"dataframe\">\n",
              "  <thead>\n",
              "    <tr style=\"text-align: right;\">\n",
              "      <th></th>\n",
              "      <th>image</th>\n",
              "      <th>positions</th>\n",
              "    </tr>\n",
              "  </thead>\n",
              "  <tbody>\n",
              "    <tr>\n",
              "      <th>0</th>\n",
              "      <td>[[19.0, 27.0, 26.0, 26.0, 25.0, 24.0, 23.0, 22...</td>\n",
              "      <td>[2]</td>\n",
              "    </tr>\n",
              "    <tr>\n",
              "      <th>1</th>\n",
              "      <td>[[34.0, 33.0, 32.0, 30.0, 29.0, 27.0, 25.0, 23...</td>\n",
              "      <td>[1]</td>\n",
              "    </tr>\n",
              "    <tr>\n",
              "      <th>2</th>\n",
              "      <td>[[35.0, 37.0, 38.0, 40.0, 41.0, 42.0, 42.0, 43...</td>\n",
              "      <td>[4]</td>\n",
              "    </tr>\n",
              "    <tr>\n",
              "      <th>3</th>\n",
              "      <td>[[3.0, 7.0, 40.0, 35.0, 34.0, 33.0, 32.0, 31.0...</td>\n",
              "      <td>[2]</td>\n",
              "    </tr>\n",
              "    <tr>\n",
              "      <th>4</th>\n",
              "      <td>[[41.0, 39.0, 36.0, 35.0, 32.0, 31.0, 29.0, 27...</td>\n",
              "      <td>[1]</td>\n",
              "    </tr>\n",
              "    <tr>\n",
              "      <th>...</th>\n",
              "      <td>...</td>\n",
              "      <td>...</td>\n",
              "    </tr>\n",
              "    <tr>\n",
              "      <th>607</th>\n",
              "      <td>[[52.0, 48.0, 45.0, 41.0, 38.0, 35.0, 32.0, 29...</td>\n",
              "      <td>[4]</td>\n",
              "    </tr>\n",
              "    <tr>\n",
              "      <th>608</th>\n",
              "      <td>[[18.0, 26.0, 25.0, 25.0, 24.0, 23.0, 22.0, 21...</td>\n",
              "      <td>[1]</td>\n",
              "    </tr>\n",
              "    <tr>\n",
              "      <th>609</th>\n",
              "      <td>[[3.0, 7.0, 38.0, 34.0, 33.0, 32.0, 31.0, 30.0...</td>\n",
              "      <td>[2]</td>\n",
              "    </tr>\n",
              "    <tr>\n",
              "      <th>610</th>\n",
              "      <td>[[22.0, 31.0, 31.0, 30.0, 29.0, 28.0, 27.0, 26...</td>\n",
              "      <td>[3]</td>\n",
              "    </tr>\n",
              "    <tr>\n",
              "      <th>611</th>\n",
              "      <td>[[48.0, 45.0, 41.0, 38.0, 35.0, 32.0, 30.0, 27...</td>\n",
              "      <td>[2]</td>\n",
              "    </tr>\n",
              "  </tbody>\n",
              "</table>\n",
              "<p>612 rows × 2 columns</p>\n",
              "</div>\n",
              "      <button class=\"colab-df-convert\" onclick=\"convertToInteractive('df-69f30703-a4d3-421b-b75e-58099b086723')\"\n",
              "              title=\"Convert this dataframe to an interactive table.\"\n",
              "              style=\"display:none;\">\n",
              "        \n",
              "  <svg xmlns=\"http://www.w3.org/2000/svg\" height=\"24px\"viewBox=\"0 0 24 24\"\n",
              "       width=\"24px\">\n",
              "    <path d=\"M0 0h24v24H0V0z\" fill=\"none\"/>\n",
              "    <path d=\"M18.56 5.44l.94 2.06.94-2.06 2.06-.94-2.06-.94-.94-2.06-.94 2.06-2.06.94zm-11 1L8.5 8.5l.94-2.06 2.06-.94-2.06-.94L8.5 2.5l-.94 2.06-2.06.94zm10 10l.94 2.06.94-2.06 2.06-.94-2.06-.94-.94-2.06-.94 2.06-2.06.94z\"/><path d=\"M17.41 7.96l-1.37-1.37c-.4-.4-.92-.59-1.43-.59-.52 0-1.04.2-1.43.59L10.3 9.45l-7.72 7.72c-.78.78-.78 2.05 0 2.83L4 21.41c.39.39.9.59 1.41.59.51 0 1.02-.2 1.41-.59l7.78-7.78 2.81-2.81c.8-.78.8-2.07 0-2.86zM5.41 20L4 18.59l7.72-7.72 1.47 1.35L5.41 20z\"/>\n",
              "  </svg>\n",
              "      </button>\n",
              "      \n",
              "  <style>\n",
              "    .colab-df-container {\n",
              "      display:flex;\n",
              "      flex-wrap:wrap;\n",
              "      gap: 12px;\n",
              "    }\n",
              "\n",
              "    .colab-df-convert {\n",
              "      background-color: #E8F0FE;\n",
              "      border: none;\n",
              "      border-radius: 50%;\n",
              "      cursor: pointer;\n",
              "      display: none;\n",
              "      fill: #1967D2;\n",
              "      height: 32px;\n",
              "      padding: 0 0 0 0;\n",
              "      width: 32px;\n",
              "    }\n",
              "\n",
              "    .colab-df-convert:hover {\n",
              "      background-color: #E2EBFA;\n",
              "      box-shadow: 0px 1px 2px rgba(60, 64, 67, 0.3), 0px 1px 3px 1px rgba(60, 64, 67, 0.15);\n",
              "      fill: #174EA6;\n",
              "    }\n",
              "\n",
              "    [theme=dark] .colab-df-convert {\n",
              "      background-color: #3B4455;\n",
              "      fill: #D2E3FC;\n",
              "    }\n",
              "\n",
              "    [theme=dark] .colab-df-convert:hover {\n",
              "      background-color: #434B5C;\n",
              "      box-shadow: 0px 1px 3px 1px rgba(0, 0, 0, 0.15);\n",
              "      filter: drop-shadow(0px 1px 2px rgba(0, 0, 0, 0.3));\n",
              "      fill: #FFFFFF;\n",
              "    }\n",
              "  </style>\n",
              "\n",
              "      <script>\n",
              "        const buttonEl =\n",
              "          document.querySelector('#df-69f30703-a4d3-421b-b75e-58099b086723 button.colab-df-convert');\n",
              "        buttonEl.style.display =\n",
              "          google.colab.kernel.accessAllowed ? 'block' : 'none';\n",
              "\n",
              "        async function convertToInteractive(key) {\n",
              "          const element = document.querySelector('#df-69f30703-a4d3-421b-b75e-58099b086723');\n",
              "          const dataTable =\n",
              "            await google.colab.kernel.invokeFunction('convertToInteractive',\n",
              "                                                     [key], {});\n",
              "          if (!dataTable) return;\n",
              "\n",
              "          const docLinkHtml = 'Like what you see? Visit the ' +\n",
              "            '<a target=\"_blank\" href=https://colab.research.google.com/notebooks/data_table.ipynb>data table notebook</a>'\n",
              "            + ' to learn more about interactive tables.';\n",
              "          element.innerHTML = '';\n",
              "          dataTable['output_type'] = 'display_data';\n",
              "          await google.colab.output.renderOutput(dataTable, element);\n",
              "          const docLink = document.createElement('div');\n",
              "          docLink.innerHTML = docLinkHtml;\n",
              "          element.appendChild(docLink);\n",
              "        }\n",
              "      </script>\n",
              "    </div>\n",
              "  </div>\n",
              "  "
            ]
          },
          "metadata": {},
          "execution_count": 10
        }
      ]
    },
    {
      "cell_type": "code",
      "source": [
        "type(wow['image'][3])"
      ],
      "metadata": {
        "colab": {
          "base_uri": "https://localhost:8080/"
        },
        "id": "SakcHElO1n92",
        "outputId": "6938f7bb-fc8d-489b-b2b6-83cf0dde3b19"
      },
      "execution_count": 11,
      "outputs": [
        {
          "output_type": "execute_result",
          "data": {
            "text/plain": [
              "numpy.ndarray"
            ]
          },
          "metadata": {},
          "execution_count": 11
        }
      ]
    },
    {
      "cell_type": "code",
      "source": [
        "\n",
        "norm = np. linalg. norm(wow['image'][3])\n",
        "normal_array = wow['image'][3]/norm"
      ],
      "metadata": {
        "id": "cqbsvupx1-gn"
      },
      "execution_count": 12,
      "outputs": []
    },
    {
      "cell_type": "markdown",
      "source": [
        "## 5. Train Test split"
      ],
      "metadata": {
        "id": "sX1BCuZIZtp-"
      }
    },
    {
      "cell_type": "code",
      "source": [
        "image2 = []\n",
        "for i in range(wow.shape[0]):\n",
        "  norm = np.linalg.norm(wow['image'][i])\n",
        "  normal_array = wow['image'][i]/norm\n",
        "  image2.append(normal_array)\n",
        "positions2 = list(wow['positions'])\n",
        "xs = np.zeros((612,32,30))\n",
        "ys = np.zeros((612,4))\n",
        "\n",
        "for i in range(612):\n",
        "  xs[i] = image2[i]\n",
        "  ys[i] = positions2[i]"
      ],
      "metadata": {
        "id": "UKB-9WEZMlKl"
      },
      "execution_count": 13,
      "outputs": []
    },
    {
      "cell_type": "code",
      "source": [
        "X_train, y_train = xs[:400], ys[:400]\n",
        "X_test, y_test = xs[400:], ys[400:]"
      ],
      "metadata": {
        "id": "s2Zc6O1DPYx1"
      },
      "execution_count": 14,
      "outputs": []
    },
    {
      "cell_type": "markdown",
      "source": [
        "## 6. Building AlexNet Model"
      ],
      "metadata": {
        "id": "8FxpJAeBZvr2"
      }
    },
    {
      "cell_type": "code",
      "source": [
        "inputs = Input(shape=(32,30,1)) # changing input shape to (32,32,3)\n",
        "h1 = Conv2D(filters=96, kernel_size=(4,4), strides=(2,2), activation='relu')(inputs) # kernel resized to (5,5)\n",
        "h2 = BatchNormalization()(h1)\n",
        "h3 = MaxPooling2D(pool_size=(2,2),strides=(2,2))(h2) # changing pool size from (3,3) to (2,2)\n",
        "h4 = Conv2D(filters=256, kernel_size=(6,6), strides=(1,1), activation='relu', padding=\"same\")(h3) # kernel resized to (3,3)\n",
        "h5 = BatchNormalization()(h4)\n",
        "h6 = MaxPooling2D(pool_size=(1,1),strides=(2,2))(h5) # changing pool size from (3,3) to (1,1)\n",
        "h7 = Conv2D(filters=384, kernel_size=(3,3), strides=(1,1), activation='relu', padding=\"same\")(h6) # kernel resized\n",
        "h8 = BatchNormalization()(h7)\n",
        "h9 = Conv2D(filters=384, kernel_size=(3,3), strides=(1,1), activation='relu', padding=\"same\")(h8) # kernel resized\n",
        "h10 = BatchNormalization()(h9)\n",
        "h11 = Conv2D(filters=256, kernel_size=(3,3), strides=(1,1), activation='relu', padding=\"same\")(h10) # kernel resized\n",
        "h12 = BatchNormalization()(h11)\n",
        "h13 = Flatten()(h3)\n",
        "h14 = Dense(4096, activation='relu')(h13)\n",
        "h15 = Dropout(0.5)(h14)\n",
        "h16 = Dense(4096, activation='relu')(h13)\n",
        "h17 = Dropout(0.5)(h16)\n",
        "outputs = Dense(4, activation='softmax')(h17)\n",
        "model = Model(inputs=inputs, outputs=outputs)"
      ],
      "metadata": {
        "id": "KHHxLikqakDA"
      },
      "execution_count": 15,
      "outputs": []
    },
    {
      "cell_type": "code",
      "source": [
        "model.summary()"
      ],
      "metadata": {
        "colab": {
          "base_uri": "https://localhost:8080/"
        },
        "id": "uDLTmV9uZ09o",
        "outputId": "bc564b70-8965-4619-f3cf-dd0b8da4e818"
      },
      "execution_count": 16,
      "outputs": [
        {
          "output_type": "stream",
          "name": "stdout",
          "text": [
            "Model: \"model\"\n",
            "_________________________________________________________________\n",
            " Layer (type)                Output Shape              Param #   \n",
            "=================================================================\n",
            " input_1 (InputLayer)        [(None, 32, 30, 1)]       0         \n",
            "                                                                 \n",
            " conv2d (Conv2D)             (None, 15, 14, 96)        1632      \n",
            "                                                                 \n",
            " batch_normalization (BatchN  (None, 15, 14, 96)       384       \n",
            " ormalization)                                                   \n",
            "                                                                 \n",
            " max_pooling2d (MaxPooling2D  (None, 7, 7, 96)         0         \n",
            " )                                                               \n",
            "                                                                 \n",
            " flatten (Flatten)           (None, 4704)              0         \n",
            "                                                                 \n",
            " dense_1 (Dense)             (None, 4096)              19271680  \n",
            "                                                                 \n",
            " dropout_1 (Dropout)         (None, 4096)              0         \n",
            "                                                                 \n",
            " dense_2 (Dense)             (None, 4)                 16388     \n",
            "                                                                 \n",
            "=================================================================\n",
            "Total params: 19,290,084\n",
            "Trainable params: 19,289,892\n",
            "Non-trainable params: 192\n",
            "_________________________________________________________________\n"
          ]
        }
      ]
    },
    {
      "cell_type": "code",
      "source": [
        "keras.utils.plot_model(model, \"test.png\", show_shapes=True)"
      ],
      "metadata": {
        "colab": {
          "base_uri": "https://localhost:8080/",
          "height": 0
        },
        "id": "P_Ov7Z_caAc-",
        "outputId": "e705bb96-3d8a-4686-a09e-5e0c56b84a73"
      },
      "execution_count": 17,
      "outputs": [
        {
          "output_type": "execute_result",
          "data": {
            "text/plain": [
              "<IPython.core.display.Image object>"
            ],
            "image/png": "[encoded data removed]"
          },
          "metadata": {},
          "execution_count": 17
        }
      ]
    },
    {
      "cell_type": "markdown",
      "source": [
        "## 7. Modeling Result"
      ],
      "metadata": {
        "id": "lwZv76meZzKG"
      }
    },
    {
      "cell_type": "code",
      "source": [
        "model.compile(loss='categorical_crossentropy', optimizer=tf.optimizers.SGD(lr=0.01), metrics=['accuracy'])\n",
        "history = model.fit(X_train,y_train,validation_data=(X_test,y_test),epochs=3)"
      ],
      "metadata": {
        "colab": {
          "base_uri": "https://localhost:8080/"
        },
        "id": "0prwIpJMeX8e",
        "outputId": "e2280658-0842-45e6-a136-fbbed89964f4"
      },
      "execution_count": 18,
      "outputs": [
        {
          "output_type": "stream",
          "name": "stdout",
          "text": [
            "Epoch 1/3\n"
          ]
        },
        {
          "output_type": "stream",
          "name": "stderr",
          "text": [
            "/usr/local/lib/python3.7/dist-packages/keras/optimizer_v2/gradient_descent.py:102: UserWarning: The `lr` argument is deprecated, use `learning_rate` instead.\n",
            "  super(SGD, self).__init__(name, **kwargs)\n"
          ]
        },
        {
          "output_type": "stream",
          "name": "stdout",
          "text": [
            "13/13 [==============================] - 4s 267ms/step - loss: nan - accuracy: 0.2925 - val_loss: nan - val_accuracy: 1.0000\n",
            "Epoch 2/3\n",
            "13/13 [==============================] - 3s 236ms/step - loss: nan - accuracy: 1.0000 - val_loss: nan - val_accuracy: 1.0000\n",
            "Epoch 3/3\n",
            "13/13 [==============================] - 5s 359ms/step - loss: nan - accuracy: 1.0000 - val_loss: nan - val_accuracy: 1.0000\n"
          ]
        }
      ]
    },
    {
      "cell_type": "code",
      "source": [
        "import pandas as pd\n",
        "import matplotlib.pyplot as plt\n",
        "\n",
        "pd.DataFrame(history.history).plot(figsize=(8, 5))\n",
        "plt.grid(True)\n",
        "plt.gca().set_ylim(0, 1.1)\n",
        "plt.show()"
      ],
      "metadata": {
        "colab": {
          "base_uri": "https://localhost:8080/",
          "height": 320
        },
        "id": "0p-7Qkz3bXp8",
        "outputId": "e8b2e45b-ba38-4a09-fc41-b6b2aaa3b694"
      },
      "execution_count": 20,
      "outputs": [
        {
          "output_type": "display_data",
          "data": {
            "text/plain": [
              "<Figure size 576x360 with 1 Axes>"
            ],
            "image/png": "[encoded data removed]"
          },
          "metadata": {
            "needs_background": "light"
          }
        }
      ]
    },
    {
      "cell_type": "markdown",
      "source": [
        "## 8. Modeling Validation\n",
        "Below, we try to shuffle y_test (used for validation) to make sure that it produces bad results. A low accuracy would reasure us in the belief that our model does not give good results by accident"
      ],
      "metadata": {
        "id": "xiz5rqTEsQPn"
      }
    },
    {
      "cell_type": "code",
      "source": [
        "import numpy as np\n",
        "\n",
        "#Splitting validation label array in two\n",
        "new_array = np.array_split(y_test,2)\n",
        "y_test_half = new_array[0]\n",
        "\n",
        "\n",
        "y_test_mixed = np.concatenate((y_test_half ,y_test_half ))"
      ],
      "metadata": {
        "id": "HLPti2clwHIP"
      },
      "execution_count": 33,
      "outputs": []
    },
    {
      "cell_type": "code",
      "source": [
        "#import random\n",
        "#y_test_shuffle = random.shuffle(y_test)"
      ],
      "metadata": {
        "id": "gSo1J6LnrbhR"
      },
      "execution_count": null,
      "outputs": []
    },
    {
      "cell_type": "code",
      "source": [
        "#Clearing previous model\n",
        "tf.keras.backend.clear_session()"
      ],
      "metadata": {
        "id": "7NRJuAmmut3H"
      },
      "execution_count": 34,
      "outputs": []
    },
    {
      "cell_type": "code",
      "source": [
        "model.compile(loss='categorical_crossentropy', optimizer=tf.optimizers.SGD(lr=0.01), metrics=['accuracy'])\n",
        "history = model.fit(X_train,y_train,validation_data=(X_test, y_test_mixed),epochs=15)"
      ],
      "metadata": {
        "colab": {
          "base_uri": "https://localhost:8080/",
          "height": 611
        },
        "id": "FwZD26wLri-Y",
        "outputId": "967ee5b1-7767-4906-890f-bced46658771"
      },
      "execution_count": 35,
      "outputs": [
        {
          "output_type": "stream",
          "name": "stdout",
          "text": [
            "Epoch 1/15\n"
          ]
        },
        {
          "output_type": "stream",
          "name": "stderr",
          "text": [
            "/usr/local/lib/python3.7/dist-packages/keras/optimizer_v2/gradient_descent.py:102: UserWarning: The `lr` argument is deprecated, use `learning_rate` instead.\n",
            "  super(SGD, self).__init__(name, **kwargs)\n"
          ]
        },
        {
          "output_type": "stream",
          "name": "stdout",
          "text": [
            "13/13 [==============================] - 4s 247ms/step - loss: nan - accuracy: 1.0000 - val_loss: nan - val_accuracy: 1.0000\n",
            "Epoch 2/15\n",
            "13/13 [==============================] - 3s 230ms/step - loss: nan - accuracy: 1.0000 - val_loss: nan - val_accuracy: 1.0000\n",
            "Epoch 3/15\n",
            "13/13 [==============================] - 3s 227ms/step - loss: nan - accuracy: 1.0000 - val_loss: nan - val_accuracy: 1.0000\n",
            "Epoch 4/15\n",
            "13/13 [==============================] - 3s 228ms/step - loss: nan - accuracy: 1.0000 - val_loss: nan - val_accuracy: 1.0000\n",
            "Epoch 5/15\n",
            "13/13 [==============================] - 3s 230ms/step - loss: nan - accuracy: 1.0000 - val_loss: nan - val_accuracy: 1.0000\n",
            "Epoch 6/15\n",
            " 2/13 [===>..........................] - ETA: 2s - loss: nan - accuracy: 1.0000"
          ]
        },
        {
          "output_type": "error",
          "ename": "KeyboardInterrupt",
          "evalue": "ignored",
          "traceback": [
            "\u001b[0;31m---------------------------------------------------------------------------\u001b[0m",
            "\u001b[0;31mKeyboardInterrupt\u001b[0m                         Traceback (most recent call last)",
            "\u001b[0;32m<ipython-input-35-3d5d108f59ad>\u001b[0m in \u001b[0;36m<module>\u001b[0;34m()\u001b[0m\n\u001b[1;32m      1\u001b[0m \u001b[0mmodel\u001b[0m\u001b[0;34m.\u001b[0m\u001b[0mcompile\u001b[0m\u001b[0;34m(\u001b[0m\u001b[0mloss\u001b[0m\u001b[0;34m=\u001b[0m\u001b[0;34m'categorical_crossentropy'\u001b[0m\u001b[0;34m,\u001b[0m \u001b[0moptimizer\u001b[0m\u001b[0;34m=\u001b[0m\u001b[0mtf\u001b[0m\u001b[0;34m.\u001b[0m\u001b[0moptimizers\u001b[0m\u001b[0;34m.\u001b[0m\u001b[0mSGD\u001b[0m\u001b[0;34m(\u001b[0m\u001b[0mlr\u001b[0m\u001b[0;34m=\u001b[0m\u001b[0;36m0.01\u001b[0m\u001b[0;34m)\u001b[0m\u001b[0;34m,\u001b[0m \u001b[0mmetrics\u001b[0m\u001b[0;34m=\u001b[0m\u001b[0;34m[\u001b[0m\u001b[0;34m'accuracy'\u001b[0m\u001b[0;34m]\u001b[0m\u001b[0;34m)\u001b[0m\u001b[0;34m\u001b[0m\u001b[0;34m\u001b[0m\u001b[0m\n\u001b[0;32m----> 2\u001b[0;31m \u001b[0mhistory\u001b[0m \u001b[0;34m=\u001b[0m \u001b[0mmodel\u001b[0m\u001b[0;34m.\u001b[0m\u001b[0mfit\u001b[0m\u001b[0;34m(\u001b[0m\u001b[0mX_train\u001b[0m\u001b[0;34m,\u001b[0m\u001b[0my_train\u001b[0m\u001b[0;34m,\u001b[0m\u001b[0mvalidation_data\u001b[0m\u001b[0;34m=\u001b[0m\u001b[0;34m(\u001b[0m\u001b[0mX_test\u001b[0m\u001b[0;34m,\u001b[0m \u001b[0my_test_mixed\u001b[0m\u001b[0;34m)\u001b[0m\u001b[0;34m,\u001b[0m\u001b[0mepochs\u001b[0m\u001b[0;34m=\u001b[0m\u001b[0;36m15\u001b[0m\u001b[0;34m)\u001b[0m\u001b[0;34m\u001b[0m\u001b[0;34m\u001b[0m\u001b[0m\n\u001b[0m",
            "\u001b[0;32m/usr/local/lib/python3.7/dist-packages/keras/utils/traceback_utils.py\u001b[0m in \u001b[0;36merror_handler\u001b[0;34m(*args, **kwargs)\u001b[0m\n\u001b[1;32m     62\u001b[0m     \u001b[0mfiltered_tb\u001b[0m \u001b[0;34m=\u001b[0m \u001b[0;32mNone\u001b[0m\u001b[0;34m\u001b[0m\u001b[0;34m\u001b[0m\u001b[0m\n\u001b[1;32m     63\u001b[0m     \u001b[0;32mtry\u001b[0m\u001b[0;34m:\u001b[0m\u001b[0;34m\u001b[0m\u001b[0;34m\u001b[0m\u001b[0m\n\u001b[0;32m---> 64\u001b[0;31m       \u001b[0;32mreturn\u001b[0m \u001b[0mfn\u001b[0m\u001b[0;34m(\u001b[0m\u001b[0;34m*\u001b[0m\u001b[0margs\u001b[0m\u001b[0;34m,\u001b[0m \u001b[0;34m**\u001b[0m\u001b[0mkwargs\u001b[0m\u001b[0;34m)\u001b[0m\u001b[0;34m\u001b[0m\u001b[0;34m\u001b[0m\u001b[0m\n\u001b[0m\u001b[1;32m     65\u001b[0m     \u001b[0;32mexcept\u001b[0m \u001b[0mException\u001b[0m \u001b[0;32mas\u001b[0m \u001b[0me\u001b[0m\u001b[0;34m:\u001b[0m  \u001b[0;31m# pylint: disable=broad-except\u001b[0m\u001b[0;34m\u001b[0m\u001b[0;34m\u001b[0m\u001b[0m\n\u001b[1;32m     66\u001b[0m       \u001b[0mfiltered_tb\u001b[0m \u001b[0;34m=\u001b[0m \u001b[0m_process_traceback_frames\u001b[0m\u001b[0;34m(\u001b[0m\u001b[0me\u001b[0m\u001b[0;34m.\u001b[0m\u001b[0m__traceback__\u001b[0m\u001b[0;34m)\u001b[0m\u001b[0;34m\u001b[0m\u001b[0;34m\u001b[0m\u001b[0m\n",
            "\u001b[0;32m/usr/local/lib/python3.7/dist-packages/keras/engine/training.py\u001b[0m in \u001b[0;36mfit\u001b[0;34m(self, x, y, batch_size, epochs, verbose, callbacks, validation_split, validation_data, shuffle, class_weight, sample_weight, initial_epoch, steps_per_epoch, validation_steps, validation_batch_size, validation_freq, max_queue_size, workers, use_multiprocessing)\u001b[0m\n\u001b[1;32m   1382\u001b[0m                 _r=1):\n\u001b[1;32m   1383\u001b[0m               \u001b[0mcallbacks\u001b[0m\u001b[0;34m.\u001b[0m\u001b[0mon_train_batch_begin\u001b[0m\u001b[0;34m(\u001b[0m\u001b[0mstep\u001b[0m\u001b[0;34m)\u001b[0m\u001b[0;34m\u001b[0m\u001b[0;34m\u001b[0m\u001b[0m\n\u001b[0;32m-> 1384\u001b[0;31m               \u001b[0mtmp_logs\u001b[0m \u001b[0;34m=\u001b[0m \u001b[0mself\u001b[0m\u001b[0;34m.\u001b[0m\u001b[0mtrain_function\u001b[0m\u001b[0;34m(\u001b[0m\u001b[0miterator\u001b[0m\u001b[0;34m)\u001b[0m\u001b[0;34m\u001b[0m\u001b[0;34m\u001b[0m\u001b[0m\n\u001b[0m\u001b[1;32m   1385\u001b[0m               \u001b[0;32mif\u001b[0m \u001b[0mdata_handler\u001b[0m\u001b[0;34m.\u001b[0m\u001b[0mshould_sync\u001b[0m\u001b[0;34m:\u001b[0m\u001b[0;34m\u001b[0m\u001b[0;34m\u001b[0m\u001b[0m\n\u001b[1;32m   1386\u001b[0m                 \u001b[0mcontext\u001b[0m\u001b[0;34m.\u001b[0m\u001b[0masync_wait\u001b[0m\u001b[0;34m(\u001b[0m\u001b[0;34m)\u001b[0m\u001b[0;34m\u001b[0m\u001b[0;34m\u001b[0m\u001b[0m\n",
            "\u001b[0;32m/usr/local/lib/python3.7/dist-packages/tensorflow/python/util/traceback_utils.py\u001b[0m in \u001b[0;36merror_handler\u001b[0;34m(*args, **kwargs)\u001b[0m\n\u001b[1;32m    148\u001b[0m     \u001b[0mfiltered_tb\u001b[0m \u001b[0;34m=\u001b[0m \u001b[0;32mNone\u001b[0m\u001b[0;34m\u001b[0m\u001b[0;34m\u001b[0m\u001b[0m\n\u001b[1;32m    149\u001b[0m     \u001b[0;32mtry\u001b[0m\u001b[0;34m:\u001b[0m\u001b[0;34m\u001b[0m\u001b[0;34m\u001b[0m\u001b[0m\n\u001b[0;32m--> 150\u001b[0;31m       \u001b[0;32mreturn\u001b[0m \u001b[0mfn\u001b[0m\u001b[0;34m(\u001b[0m\u001b[0;34m*\u001b[0m\u001b[0margs\u001b[0m\u001b[0;34m,\u001b[0m \u001b[0;34m**\u001b[0m\u001b[0mkwargs\u001b[0m\u001b[0;34m)\u001b[0m\u001b[0;34m\u001b[0m\u001b[0;34m\u001b[0m\u001b[0m\n\u001b[0m\u001b[1;32m    151\u001b[0m     \u001b[0;32mexcept\u001b[0m \u001b[0mException\u001b[0m \u001b[0;32mas\u001b[0m \u001b[0me\u001b[0m\u001b[0;34m:\u001b[0m\u001b[0;34m\u001b[0m\u001b[0;34m\u001b[0m\u001b[0m\n\u001b[1;32m    152\u001b[0m       \u001b[0mfiltered_tb\u001b[0m \u001b[0;34m=\u001b[0m \u001b[0m_process_traceback_frames\u001b[0m\u001b[0;34m(\u001b[0m\u001b[0me\u001b[0m\u001b[0;34m.\u001b[0m\u001b[0m__traceback__\u001b[0m\u001b[0;34m)\u001b[0m\u001b[0;34m\u001b[0m\u001b[0;34m\u001b[0m\u001b[0m\n",
            "\u001b[0;32m/usr/local/lib/python3.7/dist-packages/tensorflow/python/eager/def_function.py\u001b[0m in \u001b[0;36m__call__\u001b[0;34m(self, *args, **kwds)\u001b[0m\n\u001b[1;32m    913\u001b[0m \u001b[0;34m\u001b[0m\u001b[0m\n\u001b[1;32m    914\u001b[0m       \u001b[0;32mwith\u001b[0m \u001b[0mOptionalXlaContext\u001b[0m\u001b[0;34m(\u001b[0m\u001b[0mself\u001b[0m\u001b[0;34m.\u001b[0m\u001b[0m_jit_compile\u001b[0m\u001b[0;34m)\u001b[0m\u001b[0;34m:\u001b[0m\u001b[0;34m\u001b[0m\u001b[0;34m\u001b[0m\u001b[0m\n\u001b[0;32m--> 915\u001b[0;31m         \u001b[0mresult\u001b[0m \u001b[0;34m=\u001b[0m \u001b[0mself\u001b[0m\u001b[0;34m.\u001b[0m\u001b[0m_call\u001b[0m\u001b[0;34m(\u001b[0m\u001b[0;34m*\u001b[0m\u001b[0margs\u001b[0m\u001b[0;34m,\u001b[0m \u001b[0;34m**\u001b[0m\u001b[0mkwds\u001b[0m\u001b[0;34m)\u001b[0m\u001b[0;34m\u001b[0m\u001b[0;34m\u001b[0m\u001b[0m\n\u001b[0m\u001b[1;32m    916\u001b[0m \u001b[0;34m\u001b[0m\u001b[0m\n\u001b[1;32m    917\u001b[0m       \u001b[0mnew_tracing_count\u001b[0m \u001b[0;34m=\u001b[0m \u001b[0mself\u001b[0m\u001b[0;34m.\u001b[0m\u001b[0mexperimental_get_tracing_count\u001b[0m\u001b[0;34m(\u001b[0m\u001b[0;34m)\u001b[0m\u001b[0;34m\u001b[0m\u001b[0;34m\u001b[0m\u001b[0m\n",
            "\u001b[0;32m/usr/local/lib/python3.7/dist-packages/tensorflow/python/eager/def_function.py\u001b[0m in \u001b[0;36m_call\u001b[0;34m(self, *args, **kwds)\u001b[0m\n\u001b[1;32m    945\u001b[0m       \u001b[0;31m# In this case we have created variables on the first call, so we run the\u001b[0m\u001b[0;34m\u001b[0m\u001b[0;34m\u001b[0m\u001b[0;34m\u001b[0m\u001b[0m\n\u001b[1;32m    946\u001b[0m       \u001b[0;31m# defunned version which is guaranteed to never create variables.\u001b[0m\u001b[0;34m\u001b[0m\u001b[0;34m\u001b[0m\u001b[0;34m\u001b[0m\u001b[0m\n\u001b[0;32m--> 947\u001b[0;31m       \u001b[0;32mreturn\u001b[0m \u001b[0mself\u001b[0m\u001b[0;34m.\u001b[0m\u001b[0m_stateless_fn\u001b[0m\u001b[0;34m(\u001b[0m\u001b[0;34m*\u001b[0m\u001b[0margs\u001b[0m\u001b[0;34m,\u001b[0m \u001b[0;34m**\u001b[0m\u001b[0mkwds\u001b[0m\u001b[0;34m)\u001b[0m  \u001b[0;31m# pylint: disable=not-callable\u001b[0m\u001b[0;34m\u001b[0m\u001b[0;34m\u001b[0m\u001b[0m\n\u001b[0m\u001b[1;32m    948\u001b[0m     \u001b[0;32melif\u001b[0m \u001b[0mself\u001b[0m\u001b[0;34m.\u001b[0m\u001b[0m_stateful_fn\u001b[0m \u001b[0;32mis\u001b[0m \u001b[0;32mnot\u001b[0m \u001b[0;32mNone\u001b[0m\u001b[0;34m:\u001b[0m\u001b[0;34m\u001b[0m\u001b[0;34m\u001b[0m\u001b[0m\n\u001b[1;32m    949\u001b[0m       \u001b[0;31m# Release the lock early so that multiple threads can perform the call\u001b[0m\u001b[0;34m\u001b[0m\u001b[0;34m\u001b[0m\u001b[0;34m\u001b[0m\u001b[0m\n",
            "\u001b[0;32m/usr/local/lib/python3.7/dist-packages/tensorflow/python/eager/function.py\u001b[0m in \u001b[0;36m__call__\u001b[0;34m(self, *args, **kwargs)\u001b[0m\n\u001b[1;32m   2955\u001b[0m        filtered_flat_args) = self._maybe_define_function(args, kwargs)\n\u001b[1;32m   2956\u001b[0m     return graph_function._call_flat(\n\u001b[0;32m-> 2957\u001b[0;31m         filtered_flat_args, captured_inputs=graph_function.captured_inputs)  # pylint: disable=protected-access\n\u001b[0m\u001b[1;32m   2958\u001b[0m \u001b[0;34m\u001b[0m\u001b[0m\n\u001b[1;32m   2959\u001b[0m   \u001b[0;34m@\u001b[0m\u001b[0mproperty\u001b[0m\u001b[0;34m\u001b[0m\u001b[0;34m\u001b[0m\u001b[0m\n",
            "\u001b[0;32m/usr/local/lib/python3.7/dist-packages/tensorflow/python/eager/function.py\u001b[0m in \u001b[0;36m_call_flat\u001b[0;34m(self, args, captured_inputs, cancellation_manager)\u001b[0m\n\u001b[1;32m   1852\u001b[0m       \u001b[0;31m# No tape is watching; skip to running the function.\u001b[0m\u001b[0;34m\u001b[0m\u001b[0;34m\u001b[0m\u001b[0;34m\u001b[0m\u001b[0m\n\u001b[1;32m   1853\u001b[0m       return self._build_call_outputs(self._inference_function.call(\n\u001b[0;32m-> 1854\u001b[0;31m           ctx, args, cancellation_manager=cancellation_manager))\n\u001b[0m\u001b[1;32m   1855\u001b[0m     forward_backward = self._select_forward_and_backward_functions(\n\u001b[1;32m   1856\u001b[0m         \u001b[0margs\u001b[0m\u001b[0;34m,\u001b[0m\u001b[0;34m\u001b[0m\u001b[0;34m\u001b[0m\u001b[0m\n",
            "\u001b[0;32m/usr/local/lib/python3.7/dist-packages/tensorflow/python/eager/function.py\u001b[0m in \u001b[0;36mcall\u001b[0;34m(self, ctx, args, cancellation_manager)\u001b[0m\n\u001b[1;32m    502\u001b[0m               \u001b[0minputs\u001b[0m\u001b[0;34m=\u001b[0m\u001b[0margs\u001b[0m\u001b[0;34m,\u001b[0m\u001b[0;34m\u001b[0m\u001b[0;34m\u001b[0m\u001b[0m\n\u001b[1;32m    503\u001b[0m               \u001b[0mattrs\u001b[0m\u001b[0;34m=\u001b[0m\u001b[0mattrs\u001b[0m\u001b[0;34m,\u001b[0m\u001b[0;34m\u001b[0m\u001b[0;34m\u001b[0m\u001b[0m\n\u001b[0;32m--> 504\u001b[0;31m               ctx=ctx)\n\u001b[0m\u001b[1;32m    505\u001b[0m         \u001b[0;32melse\u001b[0m\u001b[0;34m:\u001b[0m\u001b[0;34m\u001b[0m\u001b[0;34m\u001b[0m\u001b[0m\n\u001b[1;32m    506\u001b[0m           outputs = execute.execute_with_cancellation(\n",
            "\u001b[0;32m/usr/local/lib/python3.7/dist-packages/tensorflow/python/eager/execute.py\u001b[0m in \u001b[0;36mquick_execute\u001b[0;34m(op_name, num_outputs, inputs, attrs, ctx, name)\u001b[0m\n\u001b[1;32m     53\u001b[0m     \u001b[0mctx\u001b[0m\u001b[0;34m.\u001b[0m\u001b[0mensure_initialized\u001b[0m\u001b[0;34m(\u001b[0m\u001b[0;34m)\u001b[0m\u001b[0;34m\u001b[0m\u001b[0;34m\u001b[0m\u001b[0m\n\u001b[1;32m     54\u001b[0m     tensors = pywrap_tfe.TFE_Py_Execute(ctx._handle, device_name, op_name,\n\u001b[0;32m---> 55\u001b[0;31m                                         inputs, attrs, num_outputs)\n\u001b[0m\u001b[1;32m     56\u001b[0m   \u001b[0;32mexcept\u001b[0m \u001b[0mcore\u001b[0m\u001b[0;34m.\u001b[0m\u001b[0m_NotOkStatusException\u001b[0m \u001b[0;32mas\u001b[0m \u001b[0me\u001b[0m\u001b[0;34m:\u001b[0m\u001b[0;34m\u001b[0m\u001b[0;34m\u001b[0m\u001b[0m\n\u001b[1;32m     57\u001b[0m     \u001b[0;32mif\u001b[0m \u001b[0mname\u001b[0m \u001b[0;32mis\u001b[0m \u001b[0;32mnot\u001b[0m \u001b[0;32mNone\u001b[0m\u001b[0;34m:\u001b[0m\u001b[0;34m\u001b[0m\u001b[0;34m\u001b[0m\u001b[0m\n",
            "\u001b[0;31mKeyboardInterrupt\u001b[0m: "
          ]
        }
      ]
    },
    {
      "cell_type": "code",
      "source": [
        "import pandas as pd\n",
        "import matplotlib.pyplot as plt\n",
        "\n",
        "pd.DataFrame(history.history).plot(figsize=(8, 5))\n",
        "plt.grid(True)\n",
        "plt.gca().set_ylim(0, 1.1)\n",
        "plt.show()"
      ],
      "metadata": {
        "colab": {
          "base_uri": "https://localhost:8080/",
          "height": 320
        },
        "id": "0qyuBsN4srT3",
        "outputId": "f1456930-604a-426e-99a3-f9d5fe20b654"
      },
      "execution_count": null,
      "outputs": [
        {
          "output_type": "display_data",
          "data": {
            "text/plain": [
              "<Figure size 576x360 with 1 Axes>"
            ],
            "image/png": "[encoded data removed]"
          },
          "metadata": {
            "needs_background": "light"
          }
        }
      ]
    }
  ]
}