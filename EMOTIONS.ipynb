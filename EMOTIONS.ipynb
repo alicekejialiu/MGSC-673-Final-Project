{
  "nbformat": 4,
  "nbformat_minor": 0,
  "metadata": {
    "colab": {
      "name": "EMOTIONS",
      "provenance": [],
      "collapsed_sections": [
        "kQquV2JfYjdT",
        "K5bbrosfYfWe",
        "sNDICiyUYwM1",
        "89LqaaL4Y3KQ",
        "sX1BCuZIZtp-",
        "8FxpJAeBZvr2"
      ]
    },
    "kernelspec": {
      "name": "python3",
      "display_name": "Python 3"
    },
    "language_info": {
      "name": "python"
    }
  },
  "cells": [
    {
      "cell_type": "markdown",
      "source": [
        "#Facial Emotions Detection Application (2/3)\n",
        "For this application of detecting emotions, the target variable is emotion expressed by the facial image, where 1,2,3,4 represents angry, happy, sad, and neutral respectively."
      ],
      "metadata": {
        "id": "seO-MHcAYBqA"
      }
    },
    {
      "cell_type": "markdown",
      "source": [
        "## 1. Environment Setup"
      ],
      "metadata": {
        "id": "kQquV2JfYjdT"
      }
    },
    {
      "cell_type": "code",
      "source": [
        "import re   \n",
        "import numpy as np \n",
        "import os\n",
        "import tarfile\n",
        "import tensorflow as tf\n",
        "from random import randint\n",
        "from glob import glob\n",
        "import pandas as pd\n",
        "from __future__ import print_function\n",
        "from tensorflow import keras\n",
        "from tensorflow.keras.layers import Dense, Dropout, Input\n",
        "from tensorflow.keras.layers import Conv2D, MaxPooling2D, Flatten, BatchNormalization\n",
        "from tensorflow.keras.models import Model"
      ],
      "metadata": {
        "id": "dLfgW4TuEwmg"
      },
      "execution_count": null,
      "outputs": []
    },
    {
      "cell_type": "markdown",
      "source": [
        "## 2. Loading Dataset"
      ],
      "metadata": {
        "id": "K5bbrosfYfWe"
      }
    },
    {
      "cell_type": "code",
      "source": [
        "!wget https://github.com/alicekejialiu/datasets/raw/main/faces_4.tar.gz"
      ],
      "metadata": {
        "colab": {
          "base_uri": "https://localhost:8080/"
        },
        "id": "MKfBgBmcVblw",
        "outputId": "229ee58e-87ed-4846-9913-8ebb597f80d3"
      },
      "execution_count": null,
      "outputs": [
        {
          "output_type": "stream",
          "name": "stdout",
          "text": [
            "--2022-04-28 23:09:26--  https://github.com/alicekejialiu/datasets/raw/main/faces_4.tar.gz\n",
            "Resolving github.com (github.com)... 192.30.255.113\n",
            "Connecting to github.com (github.com)|192.30.255.113|:443... connected.\n",
            "HTTP request sent, awaiting response... 302 Found\n",
            "Location: https://raw.githubusercontent.com/alicekejialiu/datasets/main/faces_4.tar.gz [following]\n",
            "--2022-04-28 23:09:26--  https://raw.githubusercontent.com/alicekejialiu/datasets/main/faces_4.tar.gz\n",
            "Resolving raw.githubusercontent.com (raw.githubusercontent.com)... 185.199.111.133, 185.199.108.133, 185.199.109.133, ...\n",
            "Connecting to raw.githubusercontent.com (raw.githubusercontent.com)|185.199.111.133|:443... connected.\n",
            "HTTP request sent, awaiting response... 200 OK\n",
            "Length: 414060 (404K) [application/octet-stream]\n",
            "Saving to: ‘faces_4.tar.gz’\n",
            "\n",
            "faces_4.tar.gz      100%[===================>] 404.36K  --.-KB/s    in 0.02s   \n",
            "\n",
            "2022-04-28 23:09:27 (17.9 MB/s) - ‘faces_4.tar.gz’ saved [414060/414060]\n",
            "\n"
          ]
        }
      ]
    },
    {
      "cell_type": "code",
      "execution_count": null,
      "metadata": {
        "id": "PjXjyr6ID45n"
      },
      "outputs": [],
      "source": [
        "tar = tarfile.open('/content/faces_4.tar.gz', \"r:gz\")\n",
        "tar.extractall()\n",
        "tar.close()"
      ]
    },
    {
      "cell_type": "markdown",
      "source": [
        "## 3. Set Paths for Images"
      ],
      "metadata": {
        "id": "sNDICiyUYwM1"
      }
    },
    {
      "cell_type": "markdown",
      "source": [
        "### 3.1 Create two lists to contain imagepaths and emotions"
      ],
      "metadata": {
        "id": "jhZGh1YAZBi4"
      }
    },
    {
      "cell_type": "code",
      "source": [
        "dataset_path = '/content/faces_4'\n",
        "imagepaths, emotions = list(), list()\n",
        "\n",
        "# List the directory\n",
        "try:\n",
        "  classes = sorted(os.walk(dataset_path).next()[1])\n",
        "except Exception:  \n",
        "  classes = sorted(os.walk(dataset_path).__next__()[1])\n",
        "        # List each sub-directory (the classes)\n",
        "\n",
        "for c in classes:\n",
        "  c_dir = os.path.join(dataset_path, c)\n",
        "  try:\n",
        "    walk = os.walk(c_dir).next()\n",
        "  except Exception: \n",
        "    walk = os.walk(c_dir).__next__()\n",
        "    # Add each image to the training set\n",
        "\n",
        "  for sample in walk[2]:\n",
        "    if sample.endswith('.pgm'):\n",
        "      imagepaths.append(os.path.join(c_dir, sample))\n",
        "\n",
        "      emotion = sample.split('_')[2]\n",
        "      if emotion=='angry':\n",
        "        emotions.append(np.array([(1)]))\n",
        "      elif emotion=='happy':\n",
        "        emotions.append(np.array([(2)]))\n",
        "      elif emotion=='sad':\n",
        "        emotions.append(np.array([(3)]))\n",
        "      elif emotion=='neutral':\n",
        "        emotions.append(np.array([(4)]))"
      ],
      "metadata": {
        "id": "wgTJumctTwvD"
      },
      "execution_count": null,
      "outputs": []
    },
    {
      "cell_type": "markdown",
      "source": [
        "### 3.2 Imagepaths and emotions in DataFrame format"
      ],
      "metadata": {
        "id": "T_KoIiuRZI_G"
      }
    },
    {
      "cell_type": "code",
      "source": [
        "haha = pd.DataFrame([imagepaths,emotions]).transpose()\n",
        "haha=haha.rename(columns={0:'imagepaths',1:'emotions'})\n",
        "haha"
      ],
      "metadata": {
        "colab": {
          "base_uri": "https://localhost:8080/"
        },
        "id": "ZV5lXotLUgor",
        "outputId": "64b3393b-f988-4085-e36a-0da8ef0757a6"
      },
      "execution_count": null,
      "outputs": [
        {
          "output_type": "execute_result",
          "data": {
            "text/plain": [
              "                                            imagepaths emotions\n",
              "0    /content/faces_4/an2i/an2i_straight_sad_sungla...      [3]\n",
              "1    /content/faces_4/an2i/an2i_straight_happy_sung...      [2]\n",
              "2    /content/faces_4/an2i/an2i_up_angry_sunglasses...      [1]\n",
              "3     /content/faces_4/an2i/an2i_up_neutral_open_4.pgm      [4]\n",
              "4    /content/faces_4/an2i/an2i_right_neutral_open_...      [4]\n",
              "..                                                 ...      ...\n",
              "619  /content/faces_4/tammo/tammo_left_neutral_sung...      [4]\n",
              "620  /content/faces_4/tammo/tammo_straight_neutral_...      [4]\n",
              "621  /content/faces_4/tammo/tammo_right_angry_open_...      [1]\n",
              "622   /content/faces_4/tammo/tammo_left_sad_open_4.pgm      [3]\n",
              "623  /content/faces_4/tammo/tammo_straight_happy_op...      [2]\n",
              "\n",
              "[624 rows x 2 columns]"
            ],
            "text/html": [
              "\n",
              "  <div id=\"df-43326caf-cc4c-45c9-9848-fe4d25befe66\">\n",
              "    <div class=\"colab-df-container\">\n",
              "      <div>\n",
              "<style scoped>\n",
              "    .dataframe tbody tr th:only-of-type {\n",
              "        vertical-align: middle;\n",
              "    }\n",
              "\n",
              "    .dataframe tbody tr th {\n",
              "        vertical-align: top;\n",
              "    }\n",
              "\n",
              "    .dataframe thead th {\n",
              "        text-align: right;\n",
              "    }\n",
              "</style>\n",
              "<table border=\"1\" class=\"dataframe\">\n",
              "  <thead>\n",
              "    <tr style=\"text-align: right;\">\n",
              "      <th></th>\n",
              "      <th>imagepaths</th>\n",
              "      <th>emotions</th>\n",
              "    </tr>\n",
              "  </thead>\n",
              "  <tbody>\n",
              "    <tr>\n",
              "      <th>0</th>\n",
              "      <td>/content/faces_4/an2i/an2i_straight_sad_sungla...</td>\n",
              "      <td>[3]</td>\n",
              "    </tr>\n",
              "    <tr>\n",
              "      <th>1</th>\n",
              "      <td>/content/faces_4/an2i/an2i_straight_happy_sung...</td>\n",
              "      <td>[2]</td>\n",
              "    </tr>\n",
              "    <tr>\n",
              "      <th>2</th>\n",
              "      <td>/content/faces_4/an2i/an2i_up_angry_sunglasses...</td>\n",
              "      <td>[1]</td>\n",
              "    </tr>\n",
              "    <tr>\n",
              "      <th>3</th>\n",
              "      <td>/content/faces_4/an2i/an2i_up_neutral_open_4.pgm</td>\n",
              "      <td>[4]</td>\n",
              "    </tr>\n",
              "    <tr>\n",
              "      <th>4</th>\n",
              "      <td>/content/faces_4/an2i/an2i_right_neutral_open_...</td>\n",
              "      <td>[4]</td>\n",
              "    </tr>\n",
              "    <tr>\n",
              "      <th>...</th>\n",
              "      <td>...</td>\n",
              "      <td>...</td>\n",
              "    </tr>\n",
              "    <tr>\n",
              "      <th>619</th>\n",
              "      <td>/content/faces_4/tammo/tammo_left_neutral_sung...</td>\n",
              "      <td>[4]</td>\n",
              "    </tr>\n",
              "    <tr>\n",
              "      <th>620</th>\n",
              "      <td>/content/faces_4/tammo/tammo_straight_neutral_...</td>\n",
              "      <td>[4]</td>\n",
              "    </tr>\n",
              "    <tr>\n",
              "      <th>621</th>\n",
              "      <td>/content/faces_4/tammo/tammo_right_angry_open_...</td>\n",
              "      <td>[1]</td>\n",
              "    </tr>\n",
              "    <tr>\n",
              "      <th>622</th>\n",
              "      <td>/content/faces_4/tammo/tammo_left_sad_open_4.pgm</td>\n",
              "      <td>[3]</td>\n",
              "    </tr>\n",
              "    <tr>\n",
              "      <th>623</th>\n",
              "      <td>/content/faces_4/tammo/tammo_straight_happy_op...</td>\n",
              "      <td>[2]</td>\n",
              "    </tr>\n",
              "  </tbody>\n",
              "</table>\n",
              "<p>624 rows × 2 columns</p>\n",
              "</div>\n",
              "      <button class=\"colab-df-convert\" onclick=\"convertToInteractive('df-43326caf-cc4c-45c9-9848-fe4d25befe66')\"\n",
              "              title=\"Convert this dataframe to an interactive table.\"\n",
              "              style=\"display:none;\">\n",
              "        \n",
              "  <svg xmlns=\"http://www.w3.org/2000/svg\" height=\"24px\"viewBox=\"0 0 24 24\"\n",
              "       width=\"24px\">\n",
              "    <path d=\"M0 0h24v24H0V0z\" fill=\"none\"/>\n",
              "    <path d=\"M18.56 5.44l.94 2.06.94-2.06 2.06-.94-2.06-.94-.94-2.06-.94 2.06-2.06.94zm-11 1L8.5 8.5l.94-2.06 2.06-.94-2.06-.94L8.5 2.5l-.94 2.06-2.06.94zm10 10l.94 2.06.94-2.06 2.06-.94-2.06-.94-.94-2.06-.94 2.06-2.06.94z\"/><path d=\"M17.41 7.96l-1.37-1.37c-.4-.4-.92-.59-1.43-.59-.52 0-1.04.2-1.43.59L10.3 9.45l-7.72 7.72c-.78.78-.78 2.05 0 2.83L4 21.41c.39.39.9.59 1.41.59.51 0 1.02-.2 1.41-.59l7.78-7.78 2.81-2.81c.8-.78.8-2.07 0-2.86zM5.41 20L4 18.59l7.72-7.72 1.47 1.35L5.41 20z\"/>\n",
              "  </svg>\n",
              "      </button>\n",
              "      \n",
              "  <style>\n",
              "    .colab-df-container {\n",
              "      display:flex;\n",
              "      flex-wrap:wrap;\n",
              "      gap: 12px;\n",
              "    }\n",
              "\n",
              "    .colab-df-convert {\n",
              "      background-color: #E8F0FE;\n",
              "      border: none;\n",
              "      border-radius: 50%;\n",
              "      cursor: pointer;\n",
              "      display: none;\n",
              "      fill: #1967D2;\n",
              "      height: 32px;\n",
              "      padding: 0 0 0 0;\n",
              "      width: 32px;\n",
              "    }\n",
              "\n",
              "    .colab-df-convert:hover {\n",
              "      background-color: #E2EBFA;\n",
              "      box-shadow: 0px 1px 2px rgba(60, 64, 67, 0.3), 0px 1px 3px 1px rgba(60, 64, 67, 0.15);\n",
              "      fill: #174EA6;\n",
              "    }\n",
              "\n",
              "    [theme=dark] .colab-df-convert {\n",
              "      background-color: #3B4455;\n",
              "      fill: #D2E3FC;\n",
              "    }\n",
              "\n",
              "    [theme=dark] .colab-df-convert:hover {\n",
              "      background-color: #434B5C;\n",
              "      box-shadow: 0px 1px 3px 1px rgba(0, 0, 0, 0.15);\n",
              "      filter: drop-shadow(0px 1px 2px rgba(0, 0, 0, 0.3));\n",
              "      fill: #FFFFFF;\n",
              "    }\n",
              "  </style>\n",
              "\n",
              "      <script>\n",
              "        const buttonEl =\n",
              "          document.querySelector('#df-43326caf-cc4c-45c9-9848-fe4d25befe66 button.colab-df-convert');\n",
              "        buttonEl.style.display =\n",
              "          google.colab.kernel.accessAllowed ? 'block' : 'none';\n",
              "\n",
              "        async function convertToInteractive(key) {\n",
              "          const element = document.querySelector('#df-43326caf-cc4c-45c9-9848-fe4d25befe66');\n",
              "          const dataTable =\n",
              "            await google.colab.kernel.invokeFunction('convertToInteractive',\n",
              "                                                     [key], {});\n",
              "          if (!dataTable) return;\n",
              "\n",
              "          const docLinkHtml = 'Like what you see? Visit the ' +\n",
              "            '<a target=\"_blank\" href=https://colab.research.google.com/notebooks/data_table.ipynb>data table notebook</a>'\n",
              "            + ' to learn more about interactive tables.';\n",
              "          element.innerHTML = '';\n",
              "          dataTable['output_type'] = 'display_data';\n",
              "          await google.colab.output.renderOutput(dataTable, element);\n",
              "          const docLink = document.createElement('div');\n",
              "          docLink.innerHTML = docLinkHtml;\n",
              "          element.appendChild(docLink);\n",
              "        }\n",
              "      </script>\n",
              "    </div>\n",
              "  </div>\n",
              "  "
            ]
          },
          "metadata": {},
          "execution_count": 5
        }
      ]
    },
    {
      "cell_type": "markdown",
      "source": [
        "## 4. Create Dataset"
      ],
      "metadata": {
        "id": "89LqaaL4Y3KQ"
      }
    },
    {
      "cell_type": "markdown",
      "source": [
        "### 4.1 Define function for reading pgm files to numpy ndarrays."
      ],
      "metadata": {
        "id": "r3bF3P-YZQb2"
      }
    },
    {
      "cell_type": "code",
      "source": [
        "def read_pgm(filename, byteorder='>'):     # '>' indicates big-endian\n",
        " \n",
        "  \"\"\"Return image data from a raw PGM file as a numpy array.\n",
        "  Format specification: http://netpbm.sourceforge.net/doc/pgm.html\n",
        "  \"\"\"\n",
        "\n",
        "  with open(filename, 'rb') as f:\n",
        "    buffer = f.read()\n",
        "  try:\n",
        "    header, width, height, maxval = re.search(  \n",
        "    b\"(^P5\\s(?:\\s*#.*[\\r\\n])*\"             # A pgm image's magic number is the two characters \"P5\"\n",
        "    b\"(\\d+)\\s(?:\\s*#.*[\\r\\n])*\"             # A width, formatted as ASCII characters in decimal\n",
        "    b\"(\\d+)\\s(?:\\s*#.*[\\r\\n])*\"             # A height, again in ASCII decimal\n",
        "    b\"(\\d+)\\s(?:\\s*#.*[\\r\\n]\\s)*)\", buffer).groups()  # The maximum gray value (Maxval), again in ASCII decimal. \n",
        "                               # Must be less than 65536, and more than zero.\n",
        "  except AttributeError:\n",
        "    raise ValueError(\"Not a raw PGM file: '%s'\" % filename)\n",
        "    \n",
        "  return np.frombuffer(buffer,\n",
        "               dtype='u1' if int(maxval) < 256 else byteorder+'u2',\n",
        "               count=int(width)*int(height),\n",
        "               offset=len(header)\n",
        "              ).reshape((int(height)*int(width)))"
      ],
      "metadata": {
        "id": "ZwCNAjDhUgSz"
      },
      "execution_count": null,
      "outputs": []
    },
    {
      "cell_type": "markdown",
      "source": [
        "### 4.2 Read pgm files with image paths"
      ],
      "metadata": {
        "id": "SaiZYBtKZW5p"
      }
    },
    {
      "cell_type": "code",
      "source": [
        "image = []\n",
        "for i in range(len(imagepaths)):\n",
        "  try:\n",
        "    val = read_pgm(imagepaths[i])\n",
        "    image.append(val)\n",
        "  except ValueError:\n",
        "    image.append(i)"
      ],
      "metadata": {
        "id": "aLWTzV9OlgoV"
      },
      "execution_count": null,
      "outputs": []
    },
    {
      "cell_type": "markdown",
      "source": [
        "### 4.3 Drop images that cannot be fit into buffer size"
      ],
      "metadata": {
        "id": "1mM7uWozZZ6I"
      }
    },
    {
      "cell_type": "code",
      "source": [
        "count = 0\n",
        "fail = []\n",
        "for i in image:\n",
        "  if type(i) != np.ndarray:\n",
        "    fail.append(i)\n",
        "    count += 1\n",
        "fail"
      ],
      "metadata": {
        "colab": {
          "base_uri": "https://localhost:8080/"
        },
        "id": "t0ayLNU5QByR",
        "outputId": "3b46b2a9-0ed3-456a-ac91-75e193d4b58d"
      },
      "execution_count": null,
      "outputs": [
        {
          "output_type": "execute_result",
          "data": {
            "text/plain": [
              "[11, 19, 88, 197, 269, 274, 380, 449, 480, 487, 489, 497]"
            ]
          },
          "metadata": {},
          "execution_count": 8
        }
      ]
    },
    {
      "cell_type": "markdown",
      "source": [
        "### 4.4 Convert data to float32 type"
      ],
      "metadata": {
        "id": "j4hqvTP_Zfj_"
      }
    },
    {
      "cell_type": "code",
      "source": [
        "for i in range(len(image)):\n",
        "  try:\n",
        "    val = image[i].reshape(32,30).astype(np.float32)\n",
        "    image[i] = val\n",
        "  except AttributeError:\n",
        "    continue"
      ],
      "metadata": {
        "id": "lq9nkp0_Uq4d"
      },
      "execution_count": null,
      "outputs": []
    },
    {
      "cell_type": "markdown",
      "source": [
        "### 4.5 Create final DataFrame"
      ],
      "metadata": {
        "id": "QZWuDEMiZkEY"
      }
    },
    {
      "cell_type": "code",
      "source": [
        "wow = pd.DataFrame([image,emotions]).transpose()\n",
        "wow = wow.rename(columns={0:'image',1:'emotions'})\n",
        "wow = wow.drop(fail).reset_index().drop(columns='index')\n",
        "wow = wow.sample(n=wow.shape[0]).reset_index().drop(columns='index')\n",
        "wow"
      ],
      "metadata": {
        "colab": {
          "base_uri": "https://localhost:8080/"
        },
        "id": "QTfhP8DYRHgA",
        "outputId": "06385bcb-0a05-45b6-e53e-28e18479e429"
      },
      "execution_count": null,
      "outputs": [
        {
          "output_type": "execute_result",
          "data": {
            "text/plain": [
              "                                                 image emotions\n",
              "0    [[18.0, 14.0, 16.0, 29.0, 28.0, 27.0, 26.0, 25...      [1]\n",
              "1    [[40.0, 37.0, 34.0, 32.0, 29.0, 27.0, 24.0, 22...      [1]\n",
              "2    [[21.0, 29.0, 29.0, 28.0, 27.0, 26.0, 25.0, 24...      [3]\n",
              "3    [[42.0, 39.0, 38.0, 36.0, 33.0, 31.0, 29.0, 28...      [3]\n",
              "4    [[36.0, 33.0, 30.0, 27.0, 25.0, 23.0, 21.0, 19...      [2]\n",
              "..                                                 ...      ...\n",
              "607  [[49.0, 46.0, 42.0, 39.0, 36.0, 33.0, 31.0, 28...      [4]\n",
              "608  [[34.0, 32.0, 30.0, 29.0, 27.0, 25.0, 23.0, 22...      [3]\n",
              "609  [[40.0, 41.0, 43.0, 44.0, 46.0, 47.0, 48.0, 48...      [3]\n",
              "610  [[36.0, 38.0, 39.0, 41.0, 42.0, 43.0, 44.0, 44...      [1]\n",
              "611  [[48.0, 36.0, 46.0, 47.0, 42.0, 41.0, 40.0, 39...      [3]\n",
              "\n",
              "[612 rows x 2 columns]"
            ],
            "text/html": [
              "\n",
              "  <div id=\"df-78f49a26-f339-4f5a-985d-efbb6fac7093\">\n",
              "    <div class=\"colab-df-container\">\n",
              "      <div>\n",
              "<style scoped>\n",
              "    .dataframe tbody tr th:only-of-type {\n",
              "        vertical-align: middle;\n",
              "    }\n",
              "\n",
              "    .dataframe tbody tr th {\n",
              "        vertical-align: top;\n",
              "    }\n",
              "\n",
              "    .dataframe thead th {\n",
              "        text-align: right;\n",
              "    }\n",
              "</style>\n",
              "<table border=\"1\" class=\"dataframe\">\n",
              "  <thead>\n",
              "    <tr style=\"text-align: right;\">\n",
              "      <th></th>\n",
              "      <th>image</th>\n",
              "      <th>emotions</th>\n",
              "    </tr>\n",
              "  </thead>\n",
              "  <tbody>\n",
              "    <tr>\n",
              "      <th>0</th>\n",
              "      <td>[[18.0, 14.0, 16.0, 29.0, 28.0, 27.0, 26.0, 25...</td>\n",
              "      <td>[1]</td>\n",
              "    </tr>\n",
              "    <tr>\n",
              "      <th>1</th>\n",
              "      <td>[[40.0, 37.0, 34.0, 32.0, 29.0, 27.0, 24.0, 22...</td>\n",
              "      <td>[1]</td>\n",
              "    </tr>\n",
              "    <tr>\n",
              "      <th>2</th>\n",
              "      <td>[[21.0, 29.0, 29.0, 28.0, 27.0, 26.0, 25.0, 24...</td>\n",
              "      <td>[3]</td>\n",
              "    </tr>\n",
              "    <tr>\n",
              "      <th>3</th>\n",
              "      <td>[[42.0, 39.0, 38.0, 36.0, 33.0, 31.0, 29.0, 28...</td>\n",
              "      <td>[3]</td>\n",
              "    </tr>\n",
              "    <tr>\n",
              "      <th>4</th>\n",
              "      <td>[[36.0, 33.0, 30.0, 27.0, 25.0, 23.0, 21.0, 19...</td>\n",
              "      <td>[2]</td>\n",
              "    </tr>\n",
              "    <tr>\n",
              "      <th>...</th>\n",
              "      <td>...</td>\n",
              "      <td>...</td>\n",
              "    </tr>\n",
              "    <tr>\n",
              "      <th>607</th>\n",
              "      <td>[[49.0, 46.0, 42.0, 39.0, 36.0, 33.0, 31.0, 28...</td>\n",
              "      <td>[4]</td>\n",
              "    </tr>\n",
              "    <tr>\n",
              "      <th>608</th>\n",
              "      <td>[[34.0, 32.0, 30.0, 29.0, 27.0, 25.0, 23.0, 22...</td>\n",
              "      <td>[3]</td>\n",
              "    </tr>\n",
              "    <tr>\n",
              "      <th>609</th>\n",
              "      <td>[[40.0, 41.0, 43.0, 44.0, 46.0, 47.0, 48.0, 48...</td>\n",
              "      <td>[3]</td>\n",
              "    </tr>\n",
              "    <tr>\n",
              "      <th>610</th>\n",
              "      <td>[[36.0, 38.0, 39.0, 41.0, 42.0, 43.0, 44.0, 44...</td>\n",
              "      <td>[1]</td>\n",
              "    </tr>\n",
              "    <tr>\n",
              "      <th>611</th>\n",
              "      <td>[[48.0, 36.0, 46.0, 47.0, 42.0, 41.0, 40.0, 39...</td>\n",
              "      <td>[3]</td>\n",
              "    </tr>\n",
              "  </tbody>\n",
              "</table>\n",
              "<p>612 rows × 2 columns</p>\n",
              "</div>\n",
              "      <button class=\"colab-df-convert\" onclick=\"convertToInteractive('df-78f49a26-f339-4f5a-985d-efbb6fac7093')\"\n",
              "              title=\"Convert this dataframe to an interactive table.\"\n",
              "              style=\"display:none;\">\n",
              "        \n",
              "  <svg xmlns=\"http://www.w3.org/2000/svg\" height=\"24px\"viewBox=\"0 0 24 24\"\n",
              "       width=\"24px\">\n",
              "    <path d=\"M0 0h24v24H0V0z\" fill=\"none\"/>\n",
              "    <path d=\"M18.56 5.44l.94 2.06.94-2.06 2.06-.94-2.06-.94-.94-2.06-.94 2.06-2.06.94zm-11 1L8.5 8.5l.94-2.06 2.06-.94-2.06-.94L8.5 2.5l-.94 2.06-2.06.94zm10 10l.94 2.06.94-2.06 2.06-.94-2.06-.94-.94-2.06-.94 2.06-2.06.94z\"/><path d=\"M17.41 7.96l-1.37-1.37c-.4-.4-.92-.59-1.43-.59-.52 0-1.04.2-1.43.59L10.3 9.45l-7.72 7.72c-.78.78-.78 2.05 0 2.83L4 21.41c.39.39.9.59 1.41.59.51 0 1.02-.2 1.41-.59l7.78-7.78 2.81-2.81c.8-.78.8-2.07 0-2.86zM5.41 20L4 18.59l7.72-7.72 1.47 1.35L5.41 20z\"/>\n",
              "  </svg>\n",
              "      </button>\n",
              "      \n",
              "  <style>\n",
              "    .colab-df-container {\n",
              "      display:flex;\n",
              "      flex-wrap:wrap;\n",
              "      gap: 12px;\n",
              "    }\n",
              "\n",
              "    .colab-df-convert {\n",
              "      background-color: #E8F0FE;\n",
              "      border: none;\n",
              "      border-radius: 50%;\n",
              "      cursor: pointer;\n",
              "      display: none;\n",
              "      fill: #1967D2;\n",
              "      height: 32px;\n",
              "      padding: 0 0 0 0;\n",
              "      width: 32px;\n",
              "    }\n",
              "\n",
              "    .colab-df-convert:hover {\n",
              "      background-color: #E2EBFA;\n",
              "      box-shadow: 0px 1px 2px rgba(60, 64, 67, 0.3), 0px 1px 3px 1px rgba(60, 64, 67, 0.15);\n",
              "      fill: #174EA6;\n",
              "    }\n",
              "\n",
              "    [theme=dark] .colab-df-convert {\n",
              "      background-color: #3B4455;\n",
              "      fill: #D2E3FC;\n",
              "    }\n",
              "\n",
              "    [theme=dark] .colab-df-convert:hover {\n",
              "      background-color: #434B5C;\n",
              "      box-shadow: 0px 1px 3px 1px rgba(0, 0, 0, 0.15);\n",
              "      filter: drop-shadow(0px 1px 2px rgba(0, 0, 0, 0.3));\n",
              "      fill: #FFFFFF;\n",
              "    }\n",
              "  </style>\n",
              "\n",
              "      <script>\n",
              "        const buttonEl =\n",
              "          document.querySelector('#df-78f49a26-f339-4f5a-985d-efbb6fac7093 button.colab-df-convert');\n",
              "        buttonEl.style.display =\n",
              "          google.colab.kernel.accessAllowed ? 'block' : 'none';\n",
              "\n",
              "        async function convertToInteractive(key) {\n",
              "          const element = document.querySelector('#df-78f49a26-f339-4f5a-985d-efbb6fac7093');\n",
              "          const dataTable =\n",
              "            await google.colab.kernel.invokeFunction('convertToInteractive',\n",
              "                                                     [key], {});\n",
              "          if (!dataTable) return;\n",
              "\n",
              "          const docLinkHtml = 'Like what you see? Visit the ' +\n",
              "            '<a target=\"_blank\" href=https://colab.research.google.com/notebooks/data_table.ipynb>data table notebook</a>'\n",
              "            + ' to learn more about interactive tables.';\n",
              "          element.innerHTML = '';\n",
              "          dataTable['output_type'] = 'display_data';\n",
              "          await google.colab.output.renderOutput(dataTable, element);\n",
              "          const docLink = document.createElement('div');\n",
              "          docLink.innerHTML = docLinkHtml;\n",
              "          element.appendChild(docLink);\n",
              "        }\n",
              "      </script>\n",
              "    </div>\n",
              "  </div>\n",
              "  "
            ]
          },
          "metadata": {},
          "execution_count": 10
        }
      ]
    },
    {
      "cell_type": "markdown",
      "source": [
        "## 5. Train Test split"
      ],
      "metadata": {
        "id": "sX1BCuZIZtp-"
      }
    },
    {
      "cell_type": "code",
      "source": [
        "image2 = list(wow['image'])\n",
        "emotions2 = list(wow['emotions'])\n",
        "xs = np.zeros((612,32,30))\n",
        "ys = np.zeros((612,4))\n",
        "\n",
        "for i in range(612):\n",
        "  xs[i] = image2[i]\n",
        "  ys[i] = emotions2[i]"
      ],
      "metadata": {
        "id": "UKB-9WEZMlKl"
      },
      "execution_count": null,
      "outputs": []
    },
    {
      "cell_type": "code",
      "source": [
        "X_train, y_train = xs[:400], ys[:400]\n",
        "X_test, y_test = xs[400:], ys[400:]"
      ],
      "metadata": {
        "id": "s2Zc6O1DPYx1"
      },
      "execution_count": null,
      "outputs": []
    },
    {
      "cell_type": "markdown",
      "source": [
        "## 6. Building AlexNet Model"
      ],
      "metadata": {
        "id": "8FxpJAeBZvr2"
      }
    },
    {
      "cell_type": "code",
      "source": [
        "inputs = Input(shape=(32,30,1)) # changing input shape to (32,32,3)\n",
        "h1 = Conv2D(filters=96, kernel_size=(4,4), strides=(2,2), activation='relu')(inputs) # kernel resized to (5,5)\n",
        "h2 = BatchNormalization()(h1)\n",
        "h3 = MaxPooling2D(pool_size=(2,2),strides=(2,2))(h2) # changing pool size from (3,3) to (2,2)\n",
        "h4 = Conv2D(filters=256, kernel_size=(6,6), strides=(1,1), activation='relu', padding=\"same\")(h3) # kernel resized to (3,3)\n",
        "h5 = BatchNormalization()(h4)\n",
        "h6 = MaxPooling2D(pool_size=(1,1),strides=(2,2))(h5) # changing pool size from (3,3) to (1,1)\n",
        "h7 = Conv2D(filters=384, kernel_size=(3,3), strides=(1,1), activation='relu', padding=\"same\")(h6) # kernel resized\n",
        "h8 = BatchNormalization()(h7)\n",
        "h9 = Conv2D(filters=384, kernel_size=(3,3), strides=(1,1), activation='relu', padding=\"same\")(h8) # kernel resized\n",
        "h10 = BatchNormalization()(h9)\n",
        "h11 = Conv2D(filters=256, kernel_size=(3,3), strides=(1,1), activation='relu', padding=\"same\")(h10) # kernel resized\n",
        "h12 = BatchNormalization()(h11)\n",
        "h13 = Flatten()(h3)\n",
        "h14 = Dense(4096, activation='relu')(h13)\n",
        "h15 = Dropout(0.5)(h14)\n",
        "h16 = Dense(4096, activation='relu')(h13)\n",
        "h17 = Dropout(0.5)(h16)\n",
        "outputs = Dense(4, activation='softmax')(h17)\n",
        "model = Model(inputs=inputs, outputs=outputs)"
      ],
      "metadata": {
        "id": "KHHxLikqakDA"
      },
      "execution_count": null,
      "outputs": []
    },
    {
      "cell_type": "code",
      "source": [
        "model.summary()"
      ],
      "metadata": {
        "colab": {
          "base_uri": "https://localhost:8080/"
        },
        "id": "uDLTmV9uZ09o",
        "outputId": "954046f7-65d6-444d-a686-f07fe60f28ef"
      },
      "execution_count": null,
      "outputs": [
        {
          "output_type": "stream",
          "name": "stdout",
          "text": [
            "Model: \"model\"\n",
            "_________________________________________________________________\n",
            " Layer (type)                Output Shape              Param #   \n",
            "=================================================================\n",
            " input_1 (InputLayer)        [(None, 32, 30, 1)]       0         \n",
            "                                                                 \n",
            " conv2d (Conv2D)             (None, 15, 14, 96)        1632      \n",
            "                                                                 \n",
            " batch_normalization (BatchN  (None, 15, 14, 96)       384       \n",
            " ormalization)                                                   \n",
            "                                                                 \n",
            " max_pooling2d (MaxPooling2D  (None, 7, 7, 96)         0         \n",
            " )                                                               \n",
            "                                                                 \n",
            " flatten (Flatten)           (None, 4704)              0         \n",
            "                                                                 \n",
            " dense_1 (Dense)             (None, 4096)              19271680  \n",
            "                                                                 \n",
            " dropout_1 (Dropout)         (None, 4096)              0         \n",
            "                                                                 \n",
            " dense_2 (Dense)             (None, 4)                 16388     \n",
            "                                                                 \n",
            "=================================================================\n",
            "Total params: 19,290,084\n",
            "Trainable params: 19,289,892\n",
            "Non-trainable params: 192\n",
            "_________________________________________________________________\n"
          ]
        }
      ]
    },
    {
      "cell_type": "code",
      "source": [
        "keras.utils.plot_model(model, \"test.png\", show_shapes=True)"
      ],
      "metadata": {
        "colab": {
          "base_uri": "https://localhost:8080/"
        },
        "id": "P_Ov7Z_caAc-",
        "outputId": "099b02cd-7a58-44ca-a156-76e6c0f369cc"
      },
      "execution_count": null,
      "outputs": [
        {
          "output_type": "execute_result",
          "data": {
            "text/plain": [
              "<IPython.core.display.Image object>"
            ],
            "image/png": "[encoded data removed]"
          },
          "metadata": {},
          "execution_count": 15
        }
      ]
    },
    {
      "cell_type": "markdown",
      "source": [
        "## 7. Modeling Result"
      ],
      "metadata": {
        "id": "lwZv76meZzKG"
      }
    },
    {
      "cell_type": "code",
      "source": [
        "model.compile(loss='categorical_crossentropy', optimizer=tf.optimizers.SGD(lr=0.01), metrics=['accuracy'])\n",
        "history = model.fit(X_train,y_train,validation_data=(X_test, y_test),epochs=3)"
      ],
      "metadata": {
        "colab": {
          "base_uri": "https://localhost:8080/"
        },
        "id": "0prwIpJMeX8e",
        "outputId": "4659d2f6-e34b-4d78-b96a-e7d05cbefb23"
      },
      "execution_count": null,
      "outputs": [
        {
          "output_type": "stream",
          "name": "stderr",
          "text": [
            "/usr/local/lib/python3.7/dist-packages/keras/optimizer_v2/gradient_descent.py:102: UserWarning: The `lr` argument is deprecated, use `learning_rate` instead.\n",
            "  super(SGD, self).__init__(name, **kwargs)\n"
          ]
        },
        {
          "output_type": "stream",
          "name": "stdout",
          "text": [
            "Epoch 1/3\n",
            "13/13 [==============================] - 8s 494ms/step - loss: nan - accuracy: 0.6325 - val_loss: nan - val_accuracy: 1.0000\n",
            "Epoch 2/3\n",
            "13/13 [==============================] - 4s 285ms/step - loss: nan - accuracy: 1.0000 - val_loss: nan - val_accuracy: 1.0000\n",
            "Epoch 3/3\n",
            "13/13 [==============================] - 3s 264ms/step - loss: nan - accuracy: 1.0000 - val_loss: nan - val_accuracy: 1.0000\n"
          ]
        }
      ]
    },
    {
      "cell_type": "code",
      "source": [
        "import pandas as pd\n",
        "import matplotlib.pyplot as plt\n",
        "\n",
        "pd.DataFrame(history.history).plot(figsize=(8, 5))\n",
        "plt.grid(True)\n",
        "plt.gca().set_ylim(0, 1.1)\n",
        "plt.show()"
      ],
      "metadata": {
        "colab": {
          "base_uri": "https://localhost:8080/",
          "height": 320
        },
        "id": "kxoREYtpbxqx",
        "outputId": "59ea5e31-0d4b-4aca-f5e3-a2a547af7f70"
      },
      "execution_count": null,
      "outputs": [
        {
          "output_type": "display_data",
          "data": {
            "text/plain": [
              "<Figure size 576x360 with 1 Axes>"
            ],
            "image/png": "[encoded data removed]"
          },
          "metadata": {
            "needs_background": "light"
          }
        }
      ]
    },
    {
      "cell_type": "markdown",
      "source": [
        "## 8. Self-built Model"
      ],
      "metadata": {
        "id": "24a-4J8Ntmzh"
      }
    },
    {
      "cell_type": "code",
      "source": [
        "input_shape = (32,30,1)\n",
        "batch_size = 50\n",
        "kernel_size = 3\n",
        "filters = 64\n",
        "dropout = 0.3\n",
        "num_labels = 4"
      ],
      "metadata": {
        "id": "xP-tEK9ot3fi"
      },
      "execution_count": null,
      "outputs": []
    },
    {
      "cell_type": "code",
      "source": [
        "# utiliaing functional API to build cnn layers\n",
        "inputs = Input(shape=input_shape)\n",
        "h1 = Conv2D(filters=filters,kernel_size=kernel_size,activation='relu',kernel_initializer='he_normal')(inputs)\n",
        "h2 = MaxPooling2D()(h1)\n",
        "h3 = Conv2D(filters=filters,kernel_size=kernel_size,activation='relu',kernel_initializer='he_normal')(h2)\n",
        "h4 = MaxPooling2D()(h3)\n",
        "h5 = Conv2D(filters=filters,kernel_size=kernel_size,activation='relu',kernel_initializer='he_normal')(h4)\n",
        "# convert image to vector \n",
        "h6 = Flatten()(h5)\n",
        "# dropout regularization\n",
        "h7 = Dropout(dropout)(h6)\n",
        "outputs = Dense(num_labels, activation='softmax')(h7)\n",
        "# model building by supplying inputs/outputs\n",
        "model = Model(inputs=inputs, outputs=outputs)\n",
        "\n",
        "model.compile(loss='categorical_crossentropy',optimizer=tf.optimizers.SGD(lr=0.01),metrics=['accuracy'])\n",
        "history = model.fit(X_train,y_train,validation_data=(X_test, y_test),epochs=3,batch_size=batch_size)"
      ],
      "metadata": {
        "colab": {
          "base_uri": "https://localhost:8080/"
        },
        "id": "E2jNBL-Cto_O",
        "outputId": "4e73f721-ce36-4eeb-de81-81f4115245d5"
      },
      "execution_count": null,
      "outputs": [
        {
          "output_type": "stream",
          "name": "stdout",
          "text": [
            "Epoch 1/3\n"
          ]
        },
        {
          "output_type": "stream",
          "name": "stderr",
          "text": [
            "/usr/local/lib/python3.7/dist-packages/keras/optimizer_v2/gradient_descent.py:102: UserWarning: The `lr` argument is deprecated, use `learning_rate` instead.\n",
            "  super(SGD, self).__init__(name, **kwargs)\n"
          ]
        },
        {
          "output_type": "stream",
          "name": "stdout",
          "text": [
            "8/8 [==============================] - 2s 163ms/step - loss: nan - accuracy: 0.7200 - val_loss: nan - val_accuracy: 1.0000\n",
            "Epoch 2/3\n",
            "8/8 [==============================] - 1s 127ms/step - loss: nan - accuracy: 1.0000 - val_loss: nan - val_accuracy: 1.0000\n",
            "Epoch 3/3\n",
            "8/8 [==============================] - 1s 126ms/step - loss: nan - accuracy: 1.0000 - val_loss: nan - val_accuracy: 1.0000\n"
          ]
        }
      ]
    }
  ]
}